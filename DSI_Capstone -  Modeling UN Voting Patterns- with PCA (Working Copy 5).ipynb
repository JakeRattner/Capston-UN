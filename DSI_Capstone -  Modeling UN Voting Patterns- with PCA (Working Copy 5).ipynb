{
 "cells": [
  {
   "cell_type": "markdown",
   "metadata": {},
   "source": [
    "Data set is taken from here: https://dataverse.harvard.edu/dataset.xhtml?persistentId=hdl:1902.1/12379"
   ]
  },
  {
   "cell_type": "code",
   "execution_count": 32,
   "metadata": {
    "collapsed": true
   },
   "outputs": [],
   "source": [
    "# Import all the libraries used in the notebook\n",
    "import pandas as pd\n",
    "from matplotlib import pyplot as plt\n",
    "import requests\n",
    "import json\n",
    "import matplotlib.pyplot as plt\n",
    "import seaborn as sns\n",
    "from IPython.display import Image\n",
    "from IPython.core.display import HTML \n",
    "from sklearn.cluster import KMeans, k_means\n",
    "from sklearn.metrics import silhouette_score\n",
    "from sklearn.datasets.samples_generator import make_blobs\n",
    "import numpy as np\n",
    "import ipywidgets as widgets\n",
    "import matplotlib.pyplot as plt\n",
    "import matplotlib\n",
    "matplotlib.style.use('ggplot')\n",
    "from sklearn.preprocessing import scale\n",
    "%matplotlib inline\n",
    "import hdbscan\n",
    "from sklearn import metrics\n",
    "from sklearn.cluster import DBSCAN\n",
    "from sklearn.decomposition import PCA\n",
    "from __future__ import print_function\n",
    "from ipywidgets import interact, interactive, fixed, interact_manual\n",
    "import ipywidgets as widgets\n",
    "from pprint import pprint"
   ]
  },
  {
   "cell_type": "code",
   "execution_count": 33,
   "metadata": {
    "collapsed": true
   },
   "outputs": [],
   "source": [
    "# read tab file of voting records (1948 - 2017)\n",
    "df_votes = pd.read_csv('~/Desktop/dataverse_files/UNVotes1-72.tab',sep='\\t')"
   ]
  },
  {
   "cell_type": "code",
   "execution_count": 34,
   "metadata": {},
   "outputs": [
    {
     "data": {
      "text/plain": [
       "5598"
      ]
     },
     "execution_count": 34,
     "metadata": {},
     "output_type": "execute_result"
    }
   ],
   "source": [
    "len(df_votes.rcid.unique())"
   ]
  },
  {
   "cell_type": "markdown",
   "metadata": {},
   "source": [
    "# Initial EDA on Raw UNGA dataset"
   ]
  },
  {
   "cell_type": "code",
   "execution_count": 35,
   "metadata": {},
   "outputs": [
    {
     "data": {
      "text/html": [
       "<div>\n",
       "<style>\n",
       "    .dataframe thead tr:only-child th {\n",
       "        text-align: right;\n",
       "    }\n",
       "\n",
       "    .dataframe thead th {\n",
       "        text-align: left;\n",
       "    }\n",
       "\n",
       "    .dataframe tbody tr th {\n",
       "        vertical-align: top;\n",
       "    }\n",
       "</style>\n",
       "<table border=\"1\" class=\"dataframe\">\n",
       "  <thead>\n",
       "    <tr style=\"text-align: right;\">\n",
       "      <th></th>\n",
       "      <th>rcid</th>\n",
       "      <th>ccode</th>\n",
       "      <th>session</th>\n",
       "      <th>member</th>\n",
       "      <th>vote</th>\n",
       "      <th>Country</th>\n",
       "      <th>Countryname</th>\n",
       "      <th>year</th>\n",
       "    </tr>\n",
       "  </thead>\n",
       "  <tbody>\n",
       "    <tr>\n",
       "      <th>0</th>\n",
       "      <td>3.0</td>\n",
       "      <td>2</td>\n",
       "      <td>1.0</td>\n",
       "      <td>1.0</td>\n",
       "      <td>1</td>\n",
       "      <td>USA</td>\n",
       "      <td>United States of America</td>\n",
       "      <td>1946</td>\n",
       "    </tr>\n",
       "    <tr>\n",
       "      <th>1</th>\n",
       "      <td>3.0</td>\n",
       "      <td>20</td>\n",
       "      <td>1.0</td>\n",
       "      <td>1.0</td>\n",
       "      <td>3</td>\n",
       "      <td>CAN</td>\n",
       "      <td>Canada</td>\n",
       "      <td>1946</td>\n",
       "    </tr>\n",
       "    <tr>\n",
       "      <th>2</th>\n",
       "      <td>3.0</td>\n",
       "      <td>31</td>\n",
       "      <td>1.0</td>\n",
       "      <td>NaN</td>\n",
       "      <td>9</td>\n",
       "      <td>BHS</td>\n",
       "      <td>Bahamas</td>\n",
       "      <td>1946</td>\n",
       "    </tr>\n",
       "  </tbody>\n",
       "</table>\n",
       "</div>"
      ],
      "text/plain": [
       "   rcid  ccode  session  member  vote Country               Countryname  year\n",
       "0   3.0      2      1.0     1.0     1     USA  United States of America  1946\n",
       "1   3.0     20      1.0     1.0     3     CAN                    Canada  1946\n",
       "2   3.0     31      1.0     NaN     9     BHS                   Bahamas  1946"
      ]
     },
     "execution_count": 35,
     "metadata": {},
     "output_type": "execute_result"
    }
   ],
   "source": [
    "df_votes.head(3)"
   ]
  },
  {
   "cell_type": "markdown",
   "metadata": {},
   "source": [
    "^^ This is what the dataset looks like. {rcid: resolution ID, ccode: Country Code,\n",
    "session: Count of Assemblies from 1946, member: Country member code, vote: decision on resolution\n",
    ".....rest is obvious}\n",
    "vote – Vote choice\n",
    "1 – Yes\n",
    "2 – Abstain\n",
    "3 – No\n",
    "8 – Absent\n",
    "9 – Not a member"
   ]
  },
  {
   "cell_type": "code",
   "execution_count": 36,
   "metadata": {},
   "outputs": [
    {
     "data": {
      "text/plain": [
       "(1099156, 8)"
      ]
     },
     "execution_count": 36,
     "metadata": {},
     "output_type": "execute_result"
    }
   ],
   "source": [
    "# Very large dataset\n",
    "df_votes.shape"
   ]
  },
  {
   "cell_type": "code",
   "execution_count": 37,
   "metadata": {
    "scrolled": true
   },
   "outputs": [
    {
     "data": {
      "text/plain": [
       "rcid           float64\n",
       "ccode            int64\n",
       "session        float64\n",
       "member         float64\n",
       "vote             int64\n",
       "Country         object\n",
       "Countryname     object\n",
       "year             int64\n",
       "dtype: object"
      ]
     },
     "execution_count": 37,
     "metadata": {},
     "output_type": "execute_result"
    }
   ],
   "source": [
    "df_votes.dtypes\n",
    "# All seem to be in usable format"
   ]
  },
  {
   "cell_type": "code",
   "execution_count": 38,
   "metadata": {},
   "outputs": [
    {
     "name": "stdout",
     "output_type": "stream",
     "text": [
      "<class 'pandas.core.frame.DataFrame'>\n",
      "RangeIndex: 1099156 entries, 0 to 1099155\n",
      "Data columns (total 8 columns):\n",
      "rcid           1099156 non-null float64\n",
      "ccode          1099156 non-null int64\n",
      "session        1098964 non-null float64\n",
      "member         846858 non-null float64\n",
      "vote           1099156 non-null int64\n",
      "Country        1091797 non-null object\n",
      "Countryname    1098987 non-null object\n",
      "year           1099156 non-null int64\n",
      "dtypes: float64(3), int64(3), object(2)\n",
      "memory usage: 67.1+ MB\n",
      "Number of missing values in 'member':252106\n"
     ]
    }
   ],
   "source": [
    "df_votes.info()\n",
    "# Indicates there are a huge numbermissing values in the member column.  \n",
    "# This is because of time prior to a state becoming a member\n",
    "print(\"Number of missing values in 'member':\" +str(1098964-846858))"
   ]
  },
  {
   "cell_type": "code",
   "execution_count": 39,
   "metadata": {},
   "outputs": [
    {
     "data": {
      "text/html": [
       "<div>\n",
       "<style>\n",
       "    .dataframe thead tr:only-child th {\n",
       "        text-align: right;\n",
       "    }\n",
       "\n",
       "    .dataframe thead th {\n",
       "        text-align: left;\n",
       "    }\n",
       "\n",
       "    .dataframe tbody tr th {\n",
       "        vertical-align: top;\n",
       "    }\n",
       "</style>\n",
       "<table border=\"1\" class=\"dataframe\">\n",
       "  <thead>\n",
       "    <tr style=\"text-align: right;\">\n",
       "      <th></th>\n",
       "      <th>Country</th>\n",
       "      <th>Countryname</th>\n",
       "    </tr>\n",
       "  </thead>\n",
       "  <tbody>\n",
       "    <tr>\n",
       "      <th>count</th>\n",
       "      <td>1091797</td>\n",
       "      <td>1098987</td>\n",
       "    </tr>\n",
       "    <tr>\n",
       "      <th>unique</th>\n",
       "      <td>198</td>\n",
       "      <td>200</td>\n",
       "    </tr>\n",
       "    <tr>\n",
       "      <th>top</th>\n",
       "      <td>AGO</td>\n",
       "      <td>Canada</td>\n",
       "    </tr>\n",
       "    <tr>\n",
       "      <th>freq</th>\n",
       "      <td>5598</td>\n",
       "      <td>5598</td>\n",
       "    </tr>\n",
       "  </tbody>\n",
       "</table>\n",
       "</div>"
      ],
      "text/plain": [
       "        Country Countryname\n",
       "count   1091797     1098987\n",
       "unique      198         200\n",
       "top         AGO      Canada\n",
       "freq       5598        5598"
      ]
     },
     "execution_count": 39,
     "metadata": {},
     "output_type": "execute_result"
    }
   ],
   "source": [
    "df_votes.describe(include=['object'])\n",
    "# This suggests to me countries may have been renamed and kept the same country code.\n",
    "# Requires further inquiry"
   ]
  },
  {
   "cell_type": "code",
   "execution_count": 40,
   "metadata": {},
   "outputs": [
    {
     "data": {
      "image/png": "[encoded data removed]",
      "text/plain": [
       "<matplotlib.figure.Figure at 0x12d7bd438>"
      ]
     },
     "metadata": {},
     "output_type": "display_data"
    }
   ],
   "source": [
    "df_votes.year.hist(figsize=(10,4));\n",
    "# looks like voting peaked in the 60's, and then flatlines, with an uptick over the last 7 years"
   ]
  },
  {
   "cell_type": "code",
   "execution_count": 41,
   "metadata": {
    "scrolled": true
   },
   "outputs": [
    {
     "data": {
      "text/plain": [
       "array([[<matplotlib.axes._subplots.AxesSubplot object at 0x115f484e0>,\n",
       "        <matplotlib.axes._subplots.AxesSubplot object at 0x10df915f8>],\n",
       "       [<matplotlib.axes._subplots.AxesSubplot object at 0x10dfc86d8>,\n",
       "        <matplotlib.axes._subplots.AxesSubplot object at 0x10e000898>]],\n",
       "      dtype=object)"
      ]
     },
     "execution_count": 41,
     "metadata": {},
     "output_type": "execute_result"
    },
    {
     "data": {
      "image/png": "[encoded data removed]",
      "text/plain": [
       "<matplotlib.figure.Figure at 0x10e2d9dd8>"
      ]
     },
     "metadata": {},
     "output_type": "display_data"
    }
   ],
   "source": [
    "df_votes[df_votes.year == 1960][['vote','Countryname','rcid', 'member']].hist()\n",
    "# This appears to show that: 1. There are more non-member votes than member votes in 1960\n",
    "# resolution 'present' most likely.  There are a low number 8's for 'absent'.  These should\n",
    "# be dropped, as an absence is usually due to a structural problem such as a civil war or\n",
    "# financial crisis. \n",
    "# 3's show there are a large number of abstaining votes. "
   ]
  },
  {
   "cell_type": "code",
   "execution_count": 42,
   "metadata": {
    "scrolled": true
   },
   "outputs": [
    {
     "name": "stdout",
     "output_type": "stream",
     "text": [
      "        vote               Countryname   rcid  member\n",
      "129626     1  United States of America  627.0     1.0\n",
      "129627     1                    Canada  627.0     1.0\n",
      "129628     9                   Bahamas  627.0     NaN\n",
      "129629     3                      Cuba  627.0     1.0\n",
      "129630     8                     Haiti  627.0     1.0\n",
      "129631     2        Dominican Republic  627.0     1.0\n",
      "129632     9                   Jamaica  627.0     NaN\n",
      "129633     9       Trinidad and Tobago  627.0     NaN\n",
      "129634     9                  Barbados  627.0     NaN\n",
      "129635     9                  Dominica  627.0     NaN\n"
     ]
    }
   ],
   "source": [
    "print(df_votes[df_votes.year == 1960][['vote','Countryname','rcid', 'member']].head(10))\n",
    "# it appears that countries are labeled as 'Nan' before the country joined the UN. \n",
    "# I can convert these values to represent a binary, 1 = member, 0 = non_member\n"
   ]
  },
  {
   "cell_type": "code",
   "execution_count": 43,
   "metadata": {
    "collapsed": true
   },
   "outputs": [],
   "source": [
    "# creating a df for 1960 alone\n",
    "df_votes_1960 = df_votes[df_votes.year == 1960]"
   ]
  },
  {
   "cell_type": "code",
   "execution_count": 44,
   "metadata": {},
   "outputs": [
    {
     "data": {
      "text/html": [
       "<div>\n",
       "<style>\n",
       "    .dataframe thead tr:only-child th {\n",
       "        text-align: right;\n",
       "    }\n",
       "\n",
       "    .dataframe thead th {\n",
       "        text-align: left;\n",
       "    }\n",
       "\n",
       "    .dataframe tbody tr th {\n",
       "        vertical-align: top;\n",
       "    }\n",
       "</style>\n",
       "<table border=\"1\" class=\"dataframe\">\n",
       "  <thead>\n",
       "    <tr style=\"text-align: right;\">\n",
       "      <th></th>\n",
       "      <th>rcid</th>\n",
       "      <th>ccode</th>\n",
       "      <th>session</th>\n",
       "      <th>member</th>\n",
       "      <th>vote</th>\n",
       "      <th>Country</th>\n",
       "      <th>Countryname</th>\n",
       "      <th>year</th>\n",
       "    </tr>\n",
       "  </thead>\n",
       "  <tbody>\n",
       "    <tr>\n",
       "      <th>129626</th>\n",
       "      <td>627.0</td>\n",
       "      <td>2</td>\n",
       "      <td>15.0</td>\n",
       "      <td>1.0</td>\n",
       "      <td>1</td>\n",
       "      <td>USA</td>\n",
       "      <td>United States of America</td>\n",
       "      <td>1960</td>\n",
       "    </tr>\n",
       "    <tr>\n",
       "      <th>129627</th>\n",
       "      <td>627.0</td>\n",
       "      <td>20</td>\n",
       "      <td>15.0</td>\n",
       "      <td>1.0</td>\n",
       "      <td>1</td>\n",
       "      <td>CAN</td>\n",
       "      <td>Canada</td>\n",
       "      <td>1960</td>\n",
       "    </tr>\n",
       "    <tr>\n",
       "      <th>129628</th>\n",
       "      <td>627.0</td>\n",
       "      <td>31</td>\n",
       "      <td>15.0</td>\n",
       "      <td>NaN</td>\n",
       "      <td>9</td>\n",
       "      <td>BHS</td>\n",
       "      <td>Bahamas</td>\n",
       "      <td>1960</td>\n",
       "    </tr>\n",
       "    <tr>\n",
       "      <th>129629</th>\n",
       "      <td>627.0</td>\n",
       "      <td>40</td>\n",
       "      <td>15.0</td>\n",
       "      <td>1.0</td>\n",
       "      <td>3</td>\n",
       "      <td>CUB</td>\n",
       "      <td>Cuba</td>\n",
       "      <td>1960</td>\n",
       "    </tr>\n",
       "    <tr>\n",
       "      <th>129630</th>\n",
       "      <td>627.0</td>\n",
       "      <td>41</td>\n",
       "      <td>15.0</td>\n",
       "      <td>1.0</td>\n",
       "      <td>8</td>\n",
       "      <td>HTI</td>\n",
       "      <td>Haiti</td>\n",
       "      <td>1960</td>\n",
       "    </tr>\n",
       "  </tbody>\n",
       "</table>\n",
       "</div>"
      ],
      "text/plain": [
       "         rcid  ccode  session  member  vote Country               Countryname  \\\n",
       "129626  627.0      2     15.0     1.0     1     USA  United States of America   \n",
       "129627  627.0     20     15.0     1.0     1     CAN                    Canada   \n",
       "129628  627.0     31     15.0     NaN     9     BHS                   Bahamas   \n",
       "129629  627.0     40     15.0     1.0     3     CUB                      Cuba   \n",
       "129630  627.0     41     15.0     1.0     8     HTI                     Haiti   \n",
       "\n",
       "        year  \n",
       "129626  1960  \n",
       "129627  1960  \n",
       "129628  1960  \n",
       "129629  1960  \n",
       "129630  1960  "
      ]
     },
     "execution_count": 44,
     "metadata": {},
     "output_type": "execute_result"
    }
   ],
   "source": [
    "# I'm interested in just looking at the data for a single year since this will be my unit of analysis\n",
    "df_votes_1960.head()"
   ]
  },
  {
   "cell_type": "code",
   "execution_count": 45,
   "metadata": {},
   "outputs": [
    {
     "data": {
      "text/plain": [
       "1    2577\n",
       "2    1084\n",
       "3    1461\n",
       "8     276\n",
       "9    5240\n",
       "Name: vote, dtype: int64"
      ]
     },
     "execution_count": 45,
     "metadata": {},
     "output_type": "execute_result"
    }
   ],
   "source": [
    "# Now I want to group by vote type. Just to see\n",
    "df_votes_1960.vote.value_counts().sort_index()\n",
    "#It looks like '9' for non-members is the dominant category. "
   ]
  },
  {
   "cell_type": "code",
   "execution_count": 46,
   "metadata": {},
   "outputs": [
    {
     "data": {
      "text/html": [
       "<div>\n",
       "<style>\n",
       "    .dataframe thead tr:only-child th {\n",
       "        text-align: right;\n",
       "    }\n",
       "\n",
       "    .dataframe thead th {\n",
       "        text-align: left;\n",
       "    }\n",
       "\n",
       "    .dataframe tbody tr th {\n",
       "        vertical-align: top;\n",
       "    }\n",
       "</style>\n",
       "<table border=\"1\" class=\"dataframe\">\n",
       "  <thead>\n",
       "    <tr style=\"text-align: right;\">\n",
       "      <th></th>\n",
       "      <th>rcid</th>\n",
       "      <th>ccode</th>\n",
       "      <th>session</th>\n",
       "      <th>member</th>\n",
       "      <th>vote</th>\n",
       "      <th>year</th>\n",
       "    </tr>\n",
       "    <tr>\n",
       "      <th>Countryname</th>\n",
       "      <th></th>\n",
       "      <th></th>\n",
       "      <th></th>\n",
       "      <th></th>\n",
       "      <th></th>\n",
       "      <th></th>\n",
       "    </tr>\n",
       "  </thead>\n",
       "  <tbody>\n",
       "    <tr>\n",
       "      <th>Algeria</th>\n",
       "      <td>52011.0</td>\n",
       "      <td>33210</td>\n",
       "      <td>810.0</td>\n",
       "      <td>NaN</td>\n",
       "      <td>486</td>\n",
       "      <td>105840</td>\n",
       "    </tr>\n",
       "    <tr>\n",
       "      <th>Andorra</th>\n",
       "      <td>52011.0</td>\n",
       "      <td>12528</td>\n",
       "      <td>810.0</td>\n",
       "      <td>NaN</td>\n",
       "      <td>486</td>\n",
       "      <td>105840</td>\n",
       "    </tr>\n",
       "    <tr>\n",
       "      <th>Angola</th>\n",
       "      <td>52011.0</td>\n",
       "      <td>29160</td>\n",
       "      <td>810.0</td>\n",
       "      <td>NaN</td>\n",
       "      <td>486</td>\n",
       "      <td>105840</td>\n",
       "    </tr>\n",
       "    <tr>\n",
       "      <th>Antigua and Barbuda</th>\n",
       "      <td>52011.0</td>\n",
       "      <td>3132</td>\n",
       "      <td>810.0</td>\n",
       "      <td>NaN</td>\n",
       "      <td>486</td>\n",
       "      <td>105840</td>\n",
       "    </tr>\n",
       "    <tr>\n",
       "      <th>Armenia</th>\n",
       "      <td>52011.0</td>\n",
       "      <td>20034</td>\n",
       "      <td>810.0</td>\n",
       "      <td>NaN</td>\n",
       "      <td>486</td>\n",
       "      <td>105840</td>\n",
       "    </tr>\n",
       "  </tbody>\n",
       "</table>\n",
       "</div>"
      ],
      "text/plain": [
       "                        rcid  ccode  session  member  vote    year\n",
       "Countryname                                                       \n",
       "Algeria              52011.0  33210    810.0     NaN   486  105840\n",
       "Andorra              52011.0  12528    810.0     NaN   486  105840\n",
       "Angola               52011.0  29160    810.0     NaN   486  105840\n",
       "Antigua and Barbuda  52011.0   3132    810.0     NaN   486  105840\n",
       "Armenia              52011.0  20034    810.0     NaN   486  105840"
      ]
     },
     "execution_count": 46,
     "metadata": {},
     "output_type": "execute_result"
    }
   ],
   "source": [
    "# Now I want to see which countries aren't members\n",
    "# Appears to show that about 98 nations represented in the data set were not members\n",
    "# at the time of voting.  Given the list of countries this make intuitive sense given\n",
    "# that most are obviously not yet countries in 1960 or are developing nations, which\n",
    "# in 1960 were not well represented in the UN General Assembly\n",
    "\n",
    "df_votes[(df_votes.year == 1960) & (df_votes.vote == 9)].groupby('Countryname').sum().head()"
   ]
  },
  {
   "cell_type": "code",
   "execution_count": 48,
   "metadata": {},
   "outputs": [],
   "source": [
    "# After confirming the meaning of non-member 'votes' I'm going to drop all of the countries\n",
    "# in 1960 that were not members from the df_votes_1960 dataframe. I believe I can drop all\n",
    "# non-member records from the entire df, but I will wait for the moment:\n",
    "\n",
    "df_votes_1960_members = df_votes_1960[df_votes_1960.member == 1]"
   ]
  },
  {
   "cell_type": "code",
   "execution_count": 49,
   "metadata": {},
   "outputs": [
    {
     "data": {
      "text/plain": [
       "1    2577\n",
       "2    1084\n",
       "3    1461\n",
       "8     276\n",
       "9       2\n",
       "Name: vote, dtype: int64"
      ]
     },
     "execution_count": 49,
     "metadata": {},
     "output_type": "execute_result"
    }
   ],
   "source": [
    "df_votes_1960_members.vote.value_counts().sort_index()\n",
    "# I wonder where the 2 \"9\" value \"non-member\" votes are coming from.  Next cell"
   ]
  },
  {
   "cell_type": "code",
   "execution_count": 50,
   "metadata": {},
   "outputs": [
    {
     "data": {
      "text/html": [
       "<div>\n",
       "<style>\n",
       "    .dataframe thead tr:only-child th {\n",
       "        text-align: right;\n",
       "    }\n",
       "\n",
       "    .dataframe thead th {\n",
       "        text-align: left;\n",
       "    }\n",
       "\n",
       "    .dataframe tbody tr th {\n",
       "        vertical-align: top;\n",
       "    }\n",
       "</style>\n",
       "<table border=\"1\" class=\"dataframe\">\n",
       "  <thead>\n",
       "    <tr style=\"text-align: right;\">\n",
       "      <th></th>\n",
       "      <th>rcid</th>\n",
       "      <th>ccode</th>\n",
       "      <th>session</th>\n",
       "      <th>member</th>\n",
       "      <th>vote</th>\n",
       "      <th>Country</th>\n",
       "      <th>Countryname</th>\n",
       "      <th>year</th>\n",
       "    </tr>\n",
       "  </thead>\n",
       "  <tbody>\n",
       "    <tr>\n",
       "      <th>149821</th>\n",
       "      <td>9040.0</td>\n",
       "      <td>475</td>\n",
       "      <td>15.0</td>\n",
       "      <td>1.0</td>\n",
       "      <td>9</td>\n",
       "      <td>NGA</td>\n",
       "      <td>Nigeria</td>\n",
       "      <td>1960</td>\n",
       "    </tr>\n",
       "    <tr>\n",
       "      <th>150018</th>\n",
       "      <td>9041.0</td>\n",
       "      <td>475</td>\n",
       "      <td>15.0</td>\n",
       "      <td>1.0</td>\n",
       "      <td>9</td>\n",
       "      <td>NGA</td>\n",
       "      <td>Nigeria</td>\n",
       "      <td>1960</td>\n",
       "    </tr>\n",
       "  </tbody>\n",
       "</table>\n",
       "</div>"
      ],
      "text/plain": [
       "          rcid  ccode  session  member  vote Country Countryname  year\n",
       "149821  9040.0    475     15.0     1.0     9     NGA     Nigeria  1960\n",
       "150018  9041.0    475     15.0     1.0     9     NGA     Nigeria  1960"
      ]
     },
     "execution_count": 50,
     "metadata": {},
     "output_type": "execute_result"
    }
   ],
   "source": [
    "df_votes_1960_members[df_votes_1960_members.vote == 9]\n",
    "# Nigeria is the only country that has a non-member vote as a member\n",
    "# This is a coding error.  They became a member, but at the time of voting\n",
    "# They were not yet a member.  This goes to the pt that dropping recodes based\n",
    "# on recorded membership my create minor errors in this data set.  'Vote' is a more\n",
    "# precise measure for indicating whether a country is a member at the time of the resolution\n"
   ]
  },
  {
   "cell_type": "markdown",
   "metadata": {},
   "source": [
    "# Data Cleaning and Feature Engineering"
   ]
  },
  {
   "cell_type": "code",
   "execution_count": 3,
   "metadata": {
    "collapsed": true
   },
   "outputs": [],
   "source": [
    "# filter df for only voting members\n",
    "df_votes = df_votes[df_votes.member == 1]"
   ]
  },
  {
   "cell_type": "code",
   "execution_count": 4,
   "metadata": {},
   "outputs": [
    {
     "data": {
      "text/html": [
       "<div>\n",
       "<style>\n",
       "    .dataframe thead tr:only-child th {\n",
       "        text-align: right;\n",
       "    }\n",
       "\n",
       "    .dataframe thead th {\n",
       "        text-align: left;\n",
       "    }\n",
       "\n",
       "    .dataframe tbody tr th {\n",
       "        vertical-align: top;\n",
       "    }\n",
       "</style>\n",
       "<table border=\"1\" class=\"dataframe\">\n",
       "  <thead>\n",
       "    <tr style=\"text-align: right;\">\n",
       "      <th></th>\n",
       "      <th>rcid</th>\n",
       "      <th>ccode</th>\n",
       "      <th>session</th>\n",
       "      <th>member</th>\n",
       "      <th>vote</th>\n",
       "      <th>Country</th>\n",
       "      <th>Countryname</th>\n",
       "      <th>year</th>\n",
       "    </tr>\n",
       "  </thead>\n",
       "  <tbody>\n",
       "    <tr>\n",
       "      <th>0</th>\n",
       "      <td>3.0</td>\n",
       "      <td>2</td>\n",
       "      <td>1.0</td>\n",
       "      <td>1.0</td>\n",
       "      <td>1</td>\n",
       "      <td>USA</td>\n",
       "      <td>United States of America</td>\n",
       "      <td>1946</td>\n",
       "    </tr>\n",
       "    <tr>\n",
       "      <th>1</th>\n",
       "      <td>3.0</td>\n",
       "      <td>20</td>\n",
       "      <td>1.0</td>\n",
       "      <td>1.0</td>\n",
       "      <td>3</td>\n",
       "      <td>CAN</td>\n",
       "      <td>Canada</td>\n",
       "      <td>1946</td>\n",
       "    </tr>\n",
       "    <tr>\n",
       "      <th>3</th>\n",
       "      <td>3.0</td>\n",
       "      <td>40</td>\n",
       "      <td>1.0</td>\n",
       "      <td>1.0</td>\n",
       "      <td>1</td>\n",
       "      <td>CUB</td>\n",
       "      <td>Cuba</td>\n",
       "      <td>1946</td>\n",
       "    </tr>\n",
       "    <tr>\n",
       "      <th>4</th>\n",
       "      <td>3.0</td>\n",
       "      <td>41</td>\n",
       "      <td>1.0</td>\n",
       "      <td>1.0</td>\n",
       "      <td>1</td>\n",
       "      <td>HTI</td>\n",
       "      <td>Haiti</td>\n",
       "      <td>1946</td>\n",
       "    </tr>\n",
       "  </tbody>\n",
       "</table>\n",
       "</div>"
      ],
      "text/plain": [
       "   rcid  ccode  session  member  vote Country               Countryname  year\n",
       "0   3.0      2      1.0     1.0     1     USA  United States of America  1946\n",
       "1   3.0     20      1.0     1.0     3     CAN                    Canada  1946\n",
       "3   3.0     40      1.0     1.0     1     CUB                      Cuba  1946\n",
       "4   3.0     41      1.0     1.0     1     HTI                     Haiti  1946"
      ]
     },
     "execution_count": 4,
     "metadata": {},
     "output_type": "execute_result"
    }
   ],
   "source": [
    "# Confirming that member column only reads \"1\" for voting members\n",
    "df_votes.head(4)"
   ]
  },
  {
   "cell_type": "code",
   "execution_count": 5,
   "metadata": {
    "collapsed": true
   },
   "outputs": [],
   "source": [
    "# Dropping country and countryname. Using ccode as country key\n",
    "df_votes_year = df_votes.drop(['Country', 'Countryname'], axis=1) "
   ]
  },
  {
   "cell_type": "code",
   "execution_count": 6,
   "metadata": {},
   "outputs": [
    {
     "data": {
      "text/html": [
       "<div>\n",
       "<style>\n",
       "    .dataframe thead tr:only-child th {\n",
       "        text-align: right;\n",
       "    }\n",
       "\n",
       "    .dataframe thead th {\n",
       "        text-align: left;\n",
       "    }\n",
       "\n",
       "    .dataframe tbody tr th {\n",
       "        vertical-align: top;\n",
       "    }\n",
       "</style>\n",
       "<table border=\"1\" class=\"dataframe\">\n",
       "  <thead>\n",
       "    <tr style=\"text-align: right;\">\n",
       "      <th></th>\n",
       "      <th>rcid</th>\n",
       "      <th>ccode</th>\n",
       "      <th>session</th>\n",
       "      <th>member</th>\n",
       "      <th>vote</th>\n",
       "      <th>year</th>\n",
       "    </tr>\n",
       "  </thead>\n",
       "  <tbody>\n",
       "    <tr>\n",
       "      <th>0</th>\n",
       "      <td>3.0</td>\n",
       "      <td>2</td>\n",
       "      <td>1.0</td>\n",
       "      <td>1.0</td>\n",
       "      <td>1</td>\n",
       "      <td>1946</td>\n",
       "    </tr>\n",
       "    <tr>\n",
       "      <th>1</th>\n",
       "      <td>3.0</td>\n",
       "      <td>20</td>\n",
       "      <td>1.0</td>\n",
       "      <td>1.0</td>\n",
       "      <td>3</td>\n",
       "      <td>1946</td>\n",
       "    </tr>\n",
       "  </tbody>\n",
       "</table>\n",
       "</div>"
      ],
      "text/plain": [
       "   rcid  ccode  session  member  vote  year\n",
       "0   3.0      2      1.0     1.0     1  1946\n",
       "1   3.0     20      1.0     1.0     3  1946"
      ]
     },
     "execution_count": 6,
     "metadata": {},
     "output_type": "execute_result"
    }
   ],
   "source": [
    "# Set a DF to only yes and no votes (0 nd 3)\n",
    "df_votes_year_binary = df_votes_year[(df_votes_year.vote <= 1) | (df_votes_year.vote == 3)]\n",
    "df_votes_year_binary.head(2)"
   ]
  },
  {
   "cell_type": "code",
   "execution_count": 7,
   "metadata": {},
   "outputs": [
    {
     "name": "stderr",
     "output_type": "stream",
     "text": [
      "/Users/jakerattner/anaconda3/lib/python3.6/site-packages/pandas/core/generic.py:3110: SettingWithCopyWarning: \n",
      "A value is trying to be set on a copy of a slice from a DataFrame.\n",
      "Try using .loc[row_indexer,col_indexer] = value instead\n",
      "\n",
      "See the caveats in the documentation: http://pandas.pydata.org/pandas-docs/stable/indexing.html#indexing-view-versus-copy\n",
      "  self[name] = value\n"
     ]
    },
    {
     "data": {
      "text/html": [
       "<div>\n",
       "<style>\n",
       "    .dataframe thead tr:only-child th {\n",
       "        text-align: right;\n",
       "    }\n",
       "\n",
       "    .dataframe thead th {\n",
       "        text-align: left;\n",
       "    }\n",
       "\n",
       "    .dataframe tbody tr th {\n",
       "        vertical-align: top;\n",
       "    }\n",
       "</style>\n",
       "<table border=\"1\" class=\"dataframe\">\n",
       "  <thead>\n",
       "    <tr style=\"text-align: right;\">\n",
       "      <th></th>\n",
       "      <th>rcid</th>\n",
       "      <th>ccode</th>\n",
       "      <th>session</th>\n",
       "      <th>member</th>\n",
       "      <th>vote</th>\n",
       "      <th>year</th>\n",
       "    </tr>\n",
       "  </thead>\n",
       "  <tbody>\n",
       "    <tr>\n",
       "      <th>0</th>\n",
       "      <td>3.0</td>\n",
       "      <td>2</td>\n",
       "      <td>1.0</td>\n",
       "      <td>1.0</td>\n",
       "      <td>1</td>\n",
       "      <td>1946</td>\n",
       "    </tr>\n",
       "    <tr>\n",
       "      <th>1</th>\n",
       "      <td>3.0</td>\n",
       "      <td>20</td>\n",
       "      <td>1.0</td>\n",
       "      <td>1.0</td>\n",
       "      <td>0</td>\n",
       "      <td>1946</td>\n",
       "    </tr>\n",
       "  </tbody>\n",
       "</table>\n",
       "</div>"
      ],
      "text/plain": [
       "   rcid  ccode  session  member  vote  year\n",
       "0   3.0      2      1.0     1.0     1  1946\n",
       "1   3.0     20      1.0     1.0     0  1946"
      ]
     },
     "execution_count": 7,
     "metadata": {},
     "output_type": "execute_result"
    }
   ],
   "source": [
    "# Turn 1 = yes and 3 = no into 0 = no and 1 = yes\n",
    "df_votes_year_binary.vote = df_votes_year_binary.vote.replace(to_replace=3, value=0, inplace=False, limit=None, regex=False, method='pad', axis=None)\n",
    "df_votes_year_binary.head(2)"
   ]
  },
  {
   "cell_type": "code",
   "execution_count": 8,
   "metadata": {
    "collapsed": true
   },
   "outputs": [],
   "source": [
    "# drop session column and set equal to new df\n",
    "df_year_features = df_votes_year_binary.drop(['session'], axis=1)"
   ]
  },
  {
   "cell_type": "code",
   "execution_count": 9,
   "metadata": {},
   "outputs": [
    {
     "data": {
      "text/html": [
       "<div>\n",
       "<style>\n",
       "    .dataframe thead tr:only-child th {\n",
       "        text-align: right;\n",
       "    }\n",
       "\n",
       "    .dataframe thead th {\n",
       "        text-align: left;\n",
       "    }\n",
       "\n",
       "    .dataframe tbody tr th {\n",
       "        vertical-align: top;\n",
       "    }\n",
       "</style>\n",
       "<table border=\"1\" class=\"dataframe\">\n",
       "  <thead>\n",
       "    <tr style=\"text-align: right;\">\n",
       "      <th></th>\n",
       "      <th>rcid</th>\n",
       "      <th>ccode</th>\n",
       "      <th>member</th>\n",
       "      <th>vote</th>\n",
       "      <th>year</th>\n",
       "    </tr>\n",
       "  </thead>\n",
       "  <tbody>\n",
       "    <tr>\n",
       "      <th>0</th>\n",
       "      <td>3.0</td>\n",
       "      <td>2</td>\n",
       "      <td>1.0</td>\n",
       "      <td>1</td>\n",
       "      <td>1946</td>\n",
       "    </tr>\n",
       "    <tr>\n",
       "      <th>1</th>\n",
       "      <td>3.0</td>\n",
       "      <td>20</td>\n",
       "      <td>1.0</td>\n",
       "      <td>0</td>\n",
       "      <td>1946</td>\n",
       "    </tr>\n",
       "    <tr>\n",
       "      <th>3</th>\n",
       "      <td>3.0</td>\n",
       "      <td>40</td>\n",
       "      <td>1.0</td>\n",
       "      <td>1</td>\n",
       "      <td>1946</td>\n",
       "    </tr>\n",
       "    <tr>\n",
       "      <th>4</th>\n",
       "      <td>3.0</td>\n",
       "      <td>41</td>\n",
       "      <td>1.0</td>\n",
       "      <td>1</td>\n",
       "      <td>1946</td>\n",
       "    </tr>\n",
       "  </tbody>\n",
       "</table>\n",
       "</div>"
      ],
      "text/plain": [
       "   rcid  ccode  member  vote  year\n",
       "0   3.0      2     1.0     1  1946\n",
       "1   3.0     20     1.0     0  1946\n",
       "3   3.0     40     1.0     1  1946\n",
       "4   3.0     41     1.0     1  1946"
      ]
     },
     "execution_count": 9,
     "metadata": {},
     "output_type": "execute_result"
    }
   ],
   "source": [
    "df_year_features.head(4)"
   ]
  },
  {
   "cell_type": "code",
   "execution_count": 10,
   "metadata": {
    "collapsed": true
   },
   "outputs": [],
   "source": [
    "# Vote multiplied by res to create a new v_res column that gives the resolution number if \n",
    "# There was a yes vote.  This will be used later to create dummy columns\n",
    "df_year_features['v_res'] = df_year_features['rcid']*df_year_features['vote']"
   ]
  },
  {
   "cell_type": "code",
   "execution_count": 11,
   "metadata": {},
   "outputs": [
    {
     "data": {
      "text/html": [
       "<div>\n",
       "<style>\n",
       "    .dataframe thead tr:only-child th {\n",
       "        text-align: right;\n",
       "    }\n",
       "\n",
       "    .dataframe thead th {\n",
       "        text-align: left;\n",
       "    }\n",
       "\n",
       "    .dataframe tbody tr th {\n",
       "        vertical-align: top;\n",
       "    }\n",
       "</style>\n",
       "<table border=\"1\" class=\"dataframe\">\n",
       "  <thead>\n",
       "    <tr style=\"text-align: right;\">\n",
       "      <th></th>\n",
       "      <th>ccode</th>\n",
       "      <th>Countryname</th>\n",
       "      <th>Country</th>\n",
       "    </tr>\n",
       "  </thead>\n",
       "  <tbody>\n",
       "    <tr>\n",
       "      <th>0</th>\n",
       "      <td>2</td>\n",
       "      <td>United States of America</td>\n",
       "      <td>USA</td>\n",
       "    </tr>\n",
       "    <tr>\n",
       "      <th>1</th>\n",
       "      <td>20</td>\n",
       "      <td>Canada</td>\n",
       "      <td>CAN</td>\n",
       "    </tr>\n",
       "  </tbody>\n",
       "</table>\n",
       "</div>"
      ],
      "text/plain": [
       "   ccode               Countryname Country\n",
       "0      2  United States of America     USA\n",
       "1     20                    Canada     CAN"
      ]
     },
     "execution_count": 11,
     "metadata": {},
     "output_type": "execute_result"
    }
   ],
   "source": [
    "#I'm creating a df that has one record for every UN nation so that it can be merged with our output later\n",
    "df_name_index = pd.DataFrame(df_votes.groupby(['ccode', 'Countryname','Country'])['Countryname'].count())\n",
    "df_name_index['count'] = df_name_index.Countryname\n",
    "df_name_index = df_name_index.drop([ 'Countryname','count'], axis=1)\n",
    "df_name_index.reset_index(inplace=True)\n",
    "df_name_index.head(2)"
   ]
  },
  {
   "cell_type": "markdown",
   "metadata": {},
   "source": [
    "# Create function to create DFs for multiple years"
   ]
  },
  {
   "cell_type": "code",
   "execution_count": 12,
   "metadata": {
    "collapsed": true
   },
   "outputs": [],
   "source": [
    "# This function takes a year as an argument and returns a df with 1s and 0s indicating whether each member country\n",
    "# voted on each resolution proposed in a that year\n",
    "def create_year_df(year):\n",
    "    df_output_year = df_year_features[df_year_features['year'] == year]\n",
    "    df_output_year = pd.concat([df_output_year,pd.get_dummies(df_output_year.v_res, prefix='res_')], axis = 1)\n",
    "    #print(df_output_year)\n",
    "    try:\n",
    "        df_output_year = df_output_year.drop(['year','rcid','member','v_res','vote', 'res__0.0'], axis=1)\n",
    "    except:\n",
    "        pass \n",
    "    df_output_year = df_output_year.set_index('ccode')\n",
    "    df_output_year = df_output_year.groupby('ccode').sum()\n",
    "    \n",
    "    return df_output_year\n",
    "create_year_df(1948);"
   ]
  },
  {
   "cell_type": "code",
   "execution_count": 13,
   "metadata": {
    "collapsed": true
   },
   "outputs": [],
   "source": [
    "# creating dictionary of years and corresponding dataframe names passing aech value from the \n",
    "# groups list into the for loop at the bottom of the cell\n",
    "frames = {}\n",
    "groups = [1946, 1947, 1948, 1949, 1950, 1951, 1952, 1953, 1954, 1955, 1956, 1957, 1958, 1959,  \n",
    "          1960, 1961, 1962, 1963, 1964, 1965, 1966, 1967, 1968, 1969, 1970, 1971, 1972, 1973, 1974,\n",
    "          1975, 1976, 1977, 1978, 1978, 1980, 1981, 1982, 1983, 1984, 1985, 1986, 1986, 1988, 1989,\n",
    "          1990, 1991, 1992, 1993, 1994, 1995, 1996, 1997, 1998, 1999, 2000, 2001, 2002, 2003, 2004,\n",
    "          2005, 2006, 2007, 2008, 2009, 2010, 2011, 2012, 2013, 2014, 2015, 2016, 2017]\n",
    "for grp in groups: \n",
    "    frames[grp] = create_year_df(grp)  "
   ]
  },
  {
   "cell_type": "code",
   "execution_count": 14,
   "metadata": {},
   "outputs": [
    {
     "data": {
      "text/plain": [
       "dict_keys([1946, 1947, 1948, 1949, 1950, 1951, 1952, 1953, 1954, 1955, 1956, 1957, 1958, 1959, 1960, 1961, 1962, 1963, 1964, 1965, 1966, 1967, 1968, 1969, 1970, 1971, 1972, 1973, 1974, 1975, 1976, 1977, 1978, 1980, 1981, 1982, 1983, 1984, 1985, 1986, 1988, 1989, 1990, 1991, 1992, 1993, 1994, 1995, 1996, 1997, 1998, 1999, 2000, 2001, 2002, 2003, 2004, 2005, 2006, 2007, 2008, 2009, 2010, 2011, 2012, 2013, 2014, 2015, 2016, 2017])"
      ]
     },
     "execution_count": 14,
     "metadata": {},
     "output_type": "execute_result"
    }
   ],
   "source": [
    "# Making sure my keys correspond with the groups list created in the last cell\n",
    "frames.keys()"
   ]
  },
  {
   "cell_type": "code",
   "execution_count": 15,
   "metadata": {},
   "outputs": [
    {
     "data": {
      "text/html": [
       "<div>\n",
       "<style>\n",
       "    .dataframe thead tr:only-child th {\n",
       "        text-align: right;\n",
       "    }\n",
       "\n",
       "    .dataframe thead th {\n",
       "        text-align: left;\n",
       "    }\n",
       "\n",
       "    .dataframe tbody tr th {\n",
       "        vertical-align: top;\n",
       "    }\n",
       "</style>\n",
       "<table border=\"1\" class=\"dataframe\">\n",
       "  <thead>\n",
       "    <tr style=\"text-align: right;\">\n",
       "      <th></th>\n",
       "      <th>res__3.0</th>\n",
       "      <th>res__4.0</th>\n",
       "      <th>res__5.0</th>\n",
       "      <th>res__6.0</th>\n",
       "      <th>res__7.0</th>\n",
       "      <th>res__8.0</th>\n",
       "      <th>res__9.0</th>\n",
       "      <th>res__10.0</th>\n",
       "      <th>res__11.0</th>\n",
       "      <th>res__12.0</th>\n",
       "      <th>...</th>\n",
       "      <th>res__36.0</th>\n",
       "      <th>res__37.0</th>\n",
       "      <th>res__38.0</th>\n",
       "      <th>res__39.0</th>\n",
       "      <th>res__40.0</th>\n",
       "      <th>res__41.0</th>\n",
       "      <th>res__42.0</th>\n",
       "      <th>res__43.0</th>\n",
       "      <th>res__44.0</th>\n",
       "      <th>res__45.0</th>\n",
       "    </tr>\n",
       "    <tr>\n",
       "      <th>ccode</th>\n",
       "      <th></th>\n",
       "      <th></th>\n",
       "      <th></th>\n",
       "      <th></th>\n",
       "      <th></th>\n",
       "      <th></th>\n",
       "      <th></th>\n",
       "      <th></th>\n",
       "      <th></th>\n",
       "      <th></th>\n",
       "      <th></th>\n",
       "      <th></th>\n",
       "      <th></th>\n",
       "      <th></th>\n",
       "      <th></th>\n",
       "      <th></th>\n",
       "      <th></th>\n",
       "      <th></th>\n",
       "      <th></th>\n",
       "      <th></th>\n",
       "      <th></th>\n",
       "    </tr>\n",
       "  </thead>\n",
       "  <tbody>\n",
       "    <tr>\n",
       "      <th>2</th>\n",
       "      <td>1</td>\n",
       "      <td>0</td>\n",
       "      <td>0</td>\n",
       "      <td>0</td>\n",
       "      <td>0</td>\n",
       "      <td>0</td>\n",
       "      <td>1</td>\n",
       "      <td>1</td>\n",
       "      <td>1</td>\n",
       "      <td>1</td>\n",
       "      <td>...</td>\n",
       "      <td>0</td>\n",
       "      <td>0</td>\n",
       "      <td>1</td>\n",
       "      <td>0</td>\n",
       "      <td>1</td>\n",
       "      <td>0</td>\n",
       "      <td>0</td>\n",
       "      <td>1</td>\n",
       "      <td>1</td>\n",
       "      <td>1</td>\n",
       "    </tr>\n",
       "    <tr>\n",
       "      <th>20</th>\n",
       "      <td>0</td>\n",
       "      <td>0</td>\n",
       "      <td>0</td>\n",
       "      <td>0</td>\n",
       "      <td>0</td>\n",
       "      <td>1</td>\n",
       "      <td>1</td>\n",
       "      <td>1</td>\n",
       "      <td>1</td>\n",
       "      <td>1</td>\n",
       "      <td>...</td>\n",
       "      <td>1</td>\n",
       "      <td>1</td>\n",
       "      <td>1</td>\n",
       "      <td>1</td>\n",
       "      <td>1</td>\n",
       "      <td>0</td>\n",
       "      <td>0</td>\n",
       "      <td>1</td>\n",
       "      <td>1</td>\n",
       "      <td>0</td>\n",
       "    </tr>\n",
       "    <tr>\n",
       "      <th>40</th>\n",
       "      <td>1</td>\n",
       "      <td>0</td>\n",
       "      <td>1</td>\n",
       "      <td>1</td>\n",
       "      <td>1</td>\n",
       "      <td>1</td>\n",
       "      <td>1</td>\n",
       "      <td>1</td>\n",
       "      <td>1</td>\n",
       "      <td>1</td>\n",
       "      <td>...</td>\n",
       "      <td>0</td>\n",
       "      <td>1</td>\n",
       "      <td>1</td>\n",
       "      <td>1</td>\n",
       "      <td>1</td>\n",
       "      <td>0</td>\n",
       "      <td>0</td>\n",
       "      <td>1</td>\n",
       "      <td>1</td>\n",
       "      <td>0</td>\n",
       "    </tr>\n",
       "    <tr>\n",
       "      <th>41</th>\n",
       "      <td>1</td>\n",
       "      <td>0</td>\n",
       "      <td>0</td>\n",
       "      <td>0</td>\n",
       "      <td>1</td>\n",
       "      <td>0</td>\n",
       "      <td>1</td>\n",
       "      <td>1</td>\n",
       "      <td>0</td>\n",
       "      <td>0</td>\n",
       "      <td>...</td>\n",
       "      <td>0</td>\n",
       "      <td>0</td>\n",
       "      <td>0</td>\n",
       "      <td>0</td>\n",
       "      <td>0</td>\n",
       "      <td>1</td>\n",
       "      <td>1</td>\n",
       "      <td>1</td>\n",
       "      <td>0</td>\n",
       "      <td>0</td>\n",
       "    </tr>\n",
       "  </tbody>\n",
       "</table>\n",
       "<p>4 rows × 43 columns</p>\n",
       "</div>"
      ],
      "text/plain": [
       "       res__3.0  res__4.0  res__5.0  res__6.0  res__7.0  res__8.0  res__9.0  \\\n",
       "ccode                                                                         \n",
       "2             1         0         0         0         0         0         1   \n",
       "20            0         0         0         0         0         1         1   \n",
       "40            1         0         1         1         1         1         1   \n",
       "41            1         0         0         0         1         0         1   \n",
       "\n",
       "       res__10.0  res__11.0  res__12.0    ...      res__36.0  res__37.0  \\\n",
       "ccode                                     ...                             \n",
       "2              1          1          1    ...              0          0   \n",
       "20             1          1          1    ...              1          1   \n",
       "40             1          1          1    ...              0          1   \n",
       "41             1          0          0    ...              0          0   \n",
       "\n",
       "       res__38.0  res__39.0  res__40.0  res__41.0  res__42.0  res__43.0  \\\n",
       "ccode                                                                     \n",
       "2              1          0          1          0          0          1   \n",
       "20             1          1          1          0          0          1   \n",
       "40             1          1          1          0          0          1   \n",
       "41             0          0          0          1          1          1   \n",
       "\n",
       "       res__44.0  res__45.0  \n",
       "ccode                        \n",
       "2              1          1  \n",
       "20             1          0  \n",
       "40             1          0  \n",
       "41             0          0  \n",
       "\n",
       "[4 rows x 43 columns]"
      ]
     },
     "execution_count": 15,
     "metadata": {},
     "output_type": "execute_result"
    }
   ],
   "source": [
    "# Confirming that the dataframe looks proper\n",
    "frames.get(1946).head(4)"
   ]
  },
  {
   "cell_type": "code",
   "execution_count": 16,
   "metadata": {
    "collapsed": true
   },
   "outputs": [],
   "source": [
    "# read in descr file\n",
    "df_descriptions = pd.read_csv('~/documents/UN-Capstone/Dscription.csv',skipinitialspace=True)"
   ]
  },
  {
   "cell_type": "code",
   "execution_count": 17,
   "metadata": {},
   "outputs": [
    {
     "data": {
      "text/html": [
       "<div>\n",
       "<style>\n",
       "    .dataframe thead tr:only-child th {\n",
       "        text-align: right;\n",
       "    }\n",
       "\n",
       "    .dataframe thead th {\n",
       "        text-align: left;\n",
       "    }\n",
       "\n",
       "    .dataframe tbody tr th {\n",
       "        vertical-align: top;\n",
       "    }\n",
       "</style>\n",
       "<table border=\"1\" class=\"dataframe\">\n",
       "  <thead>\n",
       "    <tr style=\"text-align: right;\">\n",
       "      <th></th>\n",
       "      <th>Unnamed: 0</th>\n",
       "      <th>session</th>\n",
       "      <th>rcid</th>\n",
       "      <th>abstain</th>\n",
       "      <th>yes</th>\n",
       "      <th>no</th>\n",
       "      <th>importantvote</th>\n",
       "      <th>date</th>\n",
       "      <th>unres</th>\n",
       "      <th>amend</th>\n",
       "      <th>para</th>\n",
       "      <th>short</th>\n",
       "      <th>descr</th>\n",
       "      <th>me</th>\n",
       "      <th>nu</th>\n",
       "      <th>di</th>\n",
       "      <th>hr</th>\n",
       "      <th>co</th>\n",
       "      <th>ec</th>\n",
       "      <th>year</th>\n",
       "    </tr>\n",
       "  </thead>\n",
       "  <tbody>\n",
       "    <tr>\n",
       "      <th>0</th>\n",
       "      <td>1</td>\n",
       "      <td>1</td>\n",
       "      <td>3</td>\n",
       "      <td>4</td>\n",
       "      <td>29</td>\n",
       "      <td>18</td>\n",
       "      <td>0</td>\n",
       "      <td>1946-01-01</td>\n",
       "      <td>R/1/66</td>\n",
       "      <td>1.0</td>\n",
       "      <td>0.0</td>\n",
       "      <td>AMENDMENTS, RULES OF PROCEDURE</td>\n",
       "      <td>TO ADOPT A CUBAN AMENDMENT TO THE UK PROPOSAL ...</td>\n",
       "      <td>0</td>\n",
       "      <td>0</td>\n",
       "      <td>0</td>\n",
       "      <td>0</td>\n",
       "      <td>0</td>\n",
       "      <td>0</td>\n",
       "      <td>1946</td>\n",
       "    </tr>\n",
       "    <tr>\n",
       "      <th>1</th>\n",
       "      <td>2</td>\n",
       "      <td>1</td>\n",
       "      <td>4</td>\n",
       "      <td>8</td>\n",
       "      <td>9</td>\n",
       "      <td>34</td>\n",
       "      <td>0</td>\n",
       "      <td>1946-01-02</td>\n",
       "      <td>R/1/79</td>\n",
       "      <td>0.0</td>\n",
       "      <td>0.0</td>\n",
       "      <td>SECURITY COUNCIL ELECTIONS</td>\n",
       "      <td>TO ADOPT A USSR PROPOSAL ADJOURNING DEBATE ON ...</td>\n",
       "      <td>0</td>\n",
       "      <td>0</td>\n",
       "      <td>0</td>\n",
       "      <td>0</td>\n",
       "      <td>0</td>\n",
       "      <td>0</td>\n",
       "      <td>1946</td>\n",
       "    </tr>\n",
       "  </tbody>\n",
       "</table>\n",
       "</div>"
      ],
      "text/plain": [
       "   Unnamed: 0  session  rcid  abstain  yes  no  importantvote        date  \\\n",
       "0           1        1     3        4   29  18              0  1946-01-01   \n",
       "1           2        1     4        8    9  34              0  1946-01-02   \n",
       "\n",
       "    unres  amend  para                           short  \\\n",
       "0  R/1/66    1.0   0.0  AMENDMENTS, RULES OF PROCEDURE   \n",
       "1  R/1/79    0.0   0.0      SECURITY COUNCIL ELECTIONS   \n",
       "\n",
       "                                               descr  me  nu  di  hr  co  ec  \\\n",
       "0  TO ADOPT A CUBAN AMENDMENT TO THE UK PROPOSAL ...   0   0   0   0   0   0   \n",
       "1  TO ADOPT A USSR PROPOSAL ADJOURNING DEBATE ON ...   0   0   0   0   0   0   \n",
       "\n",
       "   year  \n",
       "0  1946  \n",
       "1  1946  "
      ]
     },
     "execution_count": 17,
     "metadata": {},
     "output_type": "execute_result"
    }
   ],
   "source": [
    "# Looking at contents of the descr file\n",
    "df_descriptions.head(2)"
   ]
  },
  {
   "cell_type": "code",
   "execution_count": 18,
   "metadata": {},
   "outputs": [
    {
     "data": {
      "text/plain": [
       "0       TO ADOPT A CUBAN AMENDMENT TO THE UK PROPOSAL ...\n",
       "1       TO ADOPT A USSR PROPOSAL ADJOURNING DEBATE ON ...\n",
       "2       TO ADOPT THE KOREAN PROPOSAL THAT INVALID BALL...\n",
       "3       TO ADOPT A CUBAN PROPOSAL (A/3-C) THAT AN ITEM...\n",
       "4       TO ADOPT A 6TH COMMITTEE AMENDMENT (A/14) TO T...\n",
       "5       TO ADOPT A SECOND 6TH COMM. AMENDMENT (A/14) T...\n",
       "6       TO OPEN THE DISCUSSION ON THE POLISH DRAFT RES...\n",
       "7       TO ADOPT GENERAL COMM. DRAFT RESOLUTION (A/40)...\n",
       "8       TO ADOPT DRAFT RESOLUTIONS I AND II AS A WHOLE...\n",
       "9       TO ADOPT PARAGRAPH (A) OF THE 6TH COMM. DRAFT ...\n",
       "10      TO ADOPT USSR AMMENDMENT (A/C.3/19) TO A 3RD C...\n",
       "11      TO ADOPT A USSR AMENDMENT (A/C.3/19) TO 3RD CO...\n",
       "12      TO ADOPT USSR REVISED-AMENDMENT (A/C.3/19) TO ...\n",
       "13      TO ADOPT URUGUAY (ORAL) AMENDMENT TO THE GENER...\n",
       "14      TO ADOPT NEW ZEALAND (ORAL) AMENDMENT TO GENER...\n",
       "15      TO ADOPT USSR (ORAL) AMENDMENT REPLACING THE 1...\n",
       "16      TO ADOPT THE 1ST COMM. DRAFT RESOLUTION (A/54/...\n",
       "17      TO REQUIRE 2/3 MAJORITY RULE IN VOTING ON THE ...\n",
       "18      TO ADOPT S. AFRICA AMENDMENT (A/205/ADD.1) TO ...\n",
       "19      TO ADOPT JOINT 1ST/6TH COMM. DRAFT RESOLUTION ...\n",
       "20      TO ADOPT WHOLE 1ST COMM. DRAFT RESOLUTION (A/2...\n",
       "21      TO ADOPT BELGIAN ORAL PROPOSAL TO SURRENDER BE...\n",
       "22      TO ADOPT 1ST COMM. DRAFT RESOLUTION (A/235) RE...\n",
       "23      TO ADOPT USSR ORAL RESOL. REJECTING 8 DRAFT TR...\n",
       "24      TO ADOPT THE TRUSTEESHIP AGREEMENT FOR NEW GUI...\n",
       "25      TO ADOPT THE TRUSTEESHIP AGREEMENT FOR RUANDA-...\n",
       "26      TO ADOPT THE TRUSTEESHIP AGREEMENT FOR THE FRE...\n",
       "27      TO ADOPT THE TRUSTEESHIP AGREEMENT FOR FRENCH ...\n",
       "28      TO ADOPT TRUSTEESHIP AGREEMENT FOR WESTERN SAM...\n",
       "29      TO ADOPT TRUSTEESHIP AGREEMENT FOR TANGANYIKA ...\n",
       "                              ...                        \n",
       "5572    A/72/251 99m - Implementation of the Conventio...\n",
       "5573    A/72/251 91 - Implementation of the Declaratio...\n",
       "5574    A/72/251 99g - Conventional arms control at th...\n",
       "5575    A/72/251 93 - Prohibition of the development a...\n",
       "5576    A/72/251 99gg - Ethical imperatives for a nucl...\n",
       "5577    A/72/251 97a - Prevention of an arms race in o...\n",
       "5578    A/72/251 99aa - Compliance with non-proliferat...\n",
       "5579    A/72/251 97b - No first placement of weapons i...\n",
       "5580    A/72/251 99bb - Taking forward multilateral nu...\n",
       "5581    A/72/251 96 - Conclusion of effective internat...\n",
       "5582    A/72/251 99ee - Humanitarian consequences of n...\n",
       "5583    A/72/251 77a - Oceans and the law of the sea. ...\n",
       "5584    A/72/251 77b - Sustainable fisheries, includin...\n",
       "5585    A/72/251 176 - Cooperation between the United ...\n",
       "5586    A/72/251 54 - Report of the Special Committee ...\n",
       "5587    A/72/251 53 - United Nations Relief and Works ...\n",
       "5588    A/72/251 53 - United Nations Relief and Works ...\n",
       "5589    A/72/251 53 - United Nations Relief and Works ...\n",
       "5590    A/72/251 53 - United Nations Relief and Works ...\n",
       "5591    A/72/251 54 - Report of the Special Committee ...\n",
       "5592    A/72/251 59 - Economic and other activities wh...\n",
       "5593    A/72/251 60 - Implementation of the Declaratio...\n",
       "5594    A/72/251 54 - Report of the Special Committee ...\n",
       "5595    A/72/251 58 - Information from Non-Self-Govern...\n",
       "5596    A/72/251 54 - Report of the Special Committee ...\n",
       "5597    A/72/251 54 - Report of the Special Committee ...\n",
       "5598    A/72/251 62 - Implementation of the Declaratio...\n",
       "5599    A/72/251 62 - Implementation of the Declaratio...\n",
       "5600    A/72/251 62 - Implementation of the Declaratio...\n",
       "5601              A/72/251 15 - Culture of peace. - PEACE\n",
       "Name: descr, Length: 5602, dtype: object"
      ]
     },
     "execution_count": 18,
     "metadata": {},
     "output_type": "execute_result"
    }
   ],
   "source": [
    "df_descriptions['descr'].str.strip()"
   ]
  },
  {
   "cell_type": "code",
   "execution_count": 19,
   "metadata": {},
   "outputs": [
    {
     "data": {
      "text/plain": [
       "dtype('float64')"
      ]
     },
     "execution_count": 19,
     "metadata": {},
     "output_type": "execute_result"
    }
   ],
   "source": [
    "df_votes.rcid.dtypes"
   ]
  },
  {
   "cell_type": "markdown",
   "metadata": {},
   "source": [
    "## Output function"
   ]
  },
  {
   "cell_type": "code",
   "execution_count": 20,
   "metadata": {},
   "outputs": [
    {
     "data": {
      "image/png": "[encoded data removed]",
      "text/plain": [
       "<matplotlib.figure.Figure at 0x1114d2b70>"
      ]
     },
     "metadata": {},
     "output_type": "display_data"
    },
    {
     "name": "stdout",
     "output_type": "stream",
     "text": [
      "None\n",
      "Estimated number of clusters: 2\n",
      "Silhouette Coefficient: 0.213032\n",
      "\n",
      "\n",
      " Cluster 0: \n",
      " ['Cuba', 'Jamaica', 'Poland', 'Hungary', 'Czechoslovakia', 'Yugoslavia', 'Bulgaria', 'Romania', 'Russian Federation', 'Ukraine', 'Belarus', 'Mali', 'Mauritania', 'Niger', \"Côte D'Ivoire\", 'Guinea', 'Liberia', 'Sierra Leone', 'Ghana', 'Cameroon', 'Nigeria', 'Congo', 'Uganda', 'Kenya', 'United Republic of Tanzania', 'Rwanda', 'Somalia', 'Ethiopia', 'Zambia', 'Morocco', 'Algeria', 'Libya', 'Sudan', 'Iraq', 'Egypt', 'Syrian Arab Republic', 'Lebanon', 'Jordan', 'Saudi Arabia', 'Kuwait', 'Afghanistan', 'Mongolia', 'Pakistan', 'Nepal']\n",
      "\n",
      "\n",
      " Cluster 1: \n",
      " ['United States of America', 'Canada', 'Dominican Republic', 'Mexico', 'Guatemala', 'Honduras', 'El Salvador', 'Costa Rica', 'Panama', 'Colombia', 'Venezuela, Bolivarian Republic of', 'Peru', 'Brazil', 'Bolivia (Plurinational State of)', 'Paraguay', 'Chile', 'Argentina', 'Ireland', 'Netherlands', 'Belgium', 'Luxembourg', 'Spain', 'Austria', 'Italy', 'Finland', 'Sweden', 'Norway', 'Denmark', 'Iceland', 'Turkey', 'Israel', 'Taiwan, Province of China', 'Japan', 'Thailand', 'Malaysia', 'Australia', 'New Zealand']\n",
      "\n",
      "\n",
      " Outliers: \n",
      " ['Haiti', 'Trinidad and Tobago', 'Nicaragua', 'Ecuador', 'Uruguay', 'United Kingdom of Great Britain and Northern Ireland', 'France', 'Portugal', 'Malta', 'Albania', 'Greece', 'Cyprus', 'Gambia (Islamic Republic of the)', 'Senegal', 'Benin', 'Burkina Faso', 'Togo', 'Gabon', 'Central African Republic', 'Chad', 'Democratic Republic of the Congo', 'Burundi', 'Malawi', 'South Africa', 'Madagascar', 'Tunisia', 'Iran (Islamic Republic of)', 'India', 'Myanmar', 'Sri Lanka', 'Maldives', 'Cambodia', \"Lao People's Democratic Republic\", 'Singapore', 'Philippines']\n",
      "\n",
      "   rcid     score                         short  me  nu  di  hr  co  ec\n",
      "0  905  0.248930                          OMAN   0   0   0   0   0   0\n",
      "1  914  0.245703         PORTUGESE TERRITORIES   0   0   1   0   1   0\n",
      "2  910  0.235855  INDEPENDENCE, IMPLEMENTATION   0   0   0   0   0   0\n",
      "3  881  0.234233                          ADEN   0   0   0   0   0   0\n",
      "4  912  0.228031         RACIAL DISCRIMINATION   0   0   0   0   0   0\n",
      "5  906  0.225111  OMAN, U.N. SPECIAL COMMITTEE   0   0   0   0   0   0\n",
      "6  898  0.217241  STATUS OF ISLAND TERRITORIES   0   0   0   0   1   0\n",
      "7  899  0.215421  STATUS OF ISLAND TERRITORIES   0   0   0   1   1   0\n",
      "8  917  0.214528     SOUTH AFRICA, CREDENTIALS   0   0   0   0   0   0\n",
      "9  907  0.212506      OMAN, SELF-DETERMINATION   0   0   0   0   1   0\n",
      "\n",
      " 0                     TO ADOPT AN IRAQ PROPOSAL THAT DECISION ON THE QUESTION OF OMAN BE TAKEN BY SIMPLE MAJORITY.\n",
      "1    TO ADOPT 4TH COMM. DRAFT RESOL. I (A/6209) URGING UN MEMBER-STATES TO UNDERTAKE SEPARATELY, OR COLLECTIVEL...\n",
      "2    TO ADOPT A MALI MOTION THAT THE VOTE ON THE 23-POWER DRAFT RESOLUTION (A/476/REV.1 AND ADD.1) BE DECIDED B...\n",
      "3    TO ADOPT OPERATIVE PARAGRAPH 6 OF THE 4TH COMM. DRAFT RESOLUTION (A/6089) URGING U.K. TO CEASE REPRESSIONS...\n",
      "4    TO ADOPT 2ND SENTENCE OF PARAGRAPH 2 OF THE NEW ARTICLE 20 PROPOSED BY THE 33-POWER AMENDMENT (A/L.479) TO...\n",
      "5    TO ADOPT OPERATIVE PARAGRAPHS 6 AND 7 OF THE 4TH COMM. DRAFT RESOL. (A/6168) CALLING UPON THE U.K. TO CEAS...\n",
      "6    TO ADOPT OPERATIVE PARAGRAPH 3 OF THE 4TH COMM. DRAFT RESOL. V (A/6160) ON THE FUTURE OF THE FOLLOWING ISL...\n",
      "7    TO ADOPT OPERATIVE PARAGRAPH 4 OF THE 4TH COMM. DRAFT RESOL. V (A/6160) ON THE FUTURE OF VARIOUS ISLAND-TE...\n",
      "8    TO ADOPT 35-POWER AMENDMENT TO THE CREDENTIALS COMMITTEE DRAFT RESOL. (A/6208) RECOMMENDING ACCEPTANCE OF ...\n",
      "9                                                        TO ADOPT 4TH COMMITTEE DRAFT RESOLUTION (A/6168) ON OMAN.\n",
      "Name: descr, dtype: object\n"
     ]
    }
   ],
   "source": [
    "# This function forms the basis of the project's finished product and contrains code for prosessing the \n",
    "# UN vote DFs and; running through HDBSCAN to create lusters, printing the number of clusters, printing\n",
    "# a silhouette score, printing a list of countries in each cluster, running the df through PCA analysis, \n",
    "# outputting a visualization of clusters based on principle components 1 and 2, and listing the resultions\n",
    "# which caused the groupings (top 5 contriubuting the most to vaiance)\n",
    "\n",
    "def output_all(year):\n",
    "    #HDBSCAN:\n",
    "    hdbscn = hdbscan.HDBSCAN(min_cluster_size = 10,\n",
    "               gen_min_span_tree = True)\n",
    "    hdbscn.fit(frames.get(year))\n",
    "    hdbscn_labels = hdbscn.labels_\n",
    "    hdbscn_n_clusters_ = len(set(hdbscn_labels)) - (1 if -1 in hdbscn_labels else 0)\n",
    "    \n",
    "    df_output_year = create_year_df(year);\n",
    "    df_output_year['cluster'] = hdbscn.labels_\n",
    "    df_output_year.reset_index(inplace=True)\n",
    "    df_output_year = pd.merge(df_output_year, df_name_index, on='ccode')\n",
    "    \n",
    "    #Create cluster lists\n",
    "    cluster0_list = df_output_year[df_output_year.cluster == 0]['Countryname'].tolist()\n",
    "    cluster1_list = df_output_year[df_output_year.cluster == 1]['Countryname'].tolist()\n",
    "    cluster2_list = df_output_year[df_output_year.cluster == 2]['Countryname'].tolist()\n",
    "    cluster_Outlier_list = df_output_year[df_output_year.cluster == -1]['Countryname'].tolist()\n",
    "\n",
    "    #PCA:\n",
    "    df_PCA = df_output_year.drop(['Countryname','Country'], axis=1)\n",
    "    df_features = df_PCA\n",
    "    X = df_PCA\n",
    "    X = X.set_index('ccode')\n",
    "    pca = PCA()\n",
    "    pca = pca.fit(X)\n",
    "    Z = pca.transform(X)\n",
    "    features_pca = ['PC'+str(i+1) for i in range(pca.n_components_)]\n",
    "    \n",
    "    Z = pd.DataFrame(Z, columns=features_pca)\n",
    "    X.reset_index(inplace=True)\n",
    "    X = X[['ccode','cluster']]\n",
    "    \n",
    "    X = X.join(Z, lsuffix='_caller', rsuffix='_other')\n",
    "    df_PCA = pd.merge(X, df_PCA, on='ccode')\n",
    "    df_PCA = df_PCA[['ccode','cluster_x',\"PC1\",\"PC2\"]] \n",
    "    \n",
    "    # Rolling Out PC1 components:\n",
    "    PCA_abs = abs((pca.components_))[0]\n",
    "    df_features = df_features.set_index(['ccode','cluster'])\n",
    "    t = zip(df_features.columns, PCA_abs)\n",
    "    result_list = list(t)\n",
    "    df_componenets = pd.DataFrame(result_list)\n",
    "    df_componenets.columns = ['rcid', 'score']\n",
    "    df_componenets = df_componenets.sort_values('score',ascending=False)\n",
    "    df_componenets['rcid'] = df_componenets['rcid'].map(lambda x: x.lstrip('res__'))\n",
    "    df_componenets['rcid'] = df_componenets['rcid'].astype(float)\n",
    "  \n",
    "    df_componenets = pd.merge(df_componenets, df_descriptions, on='rcid')\n",
    "    df_pca_desc = df_componenets.descr\n",
    "    df_componenets = df_componenets.drop(['abstain','yes','no','session','date',\n",
    "                                          'importantvote','unres','amend',\n",
    "                                          'para', 'year','Unnamed: 0','descr'], axis=1) #,'me', 'nu','di', 'hr', 'co','ec','short'\n",
    "    \n",
    "    pd.set_option('display.max_colwidth',110)\n",
    "    \n",
    "    #Plot PCA\n",
    "    fig = plt.figure(figsize=(12,8))\n",
    "    ax = fig.gca()\n",
    "    ax.scatter(Z.iloc[:,0], Z.iloc[:,1],\n",
    "                       c=df_PCA.cluster_x)\n",
    "    ax.set_xlabel('principal component 1', fontsize=16)\n",
    "    ax.set_ylabel('principal component 2', fontsize=16)\n",
    "    for tick in ax.xaxis.get_major_ticks():\n",
    "        tick.label.set_fontsize(12) \n",
    "    for tick in ax.yaxis.get_major_ticks():\n",
    "        tick.label.set_fontsize(12) \n",
    "    ax.set_title('PC1 vs PC2\\n', fontsize=20)\n",
    "    print(plt.show())\n",
    "    \n",
    "    # print HDBSCAN RESULTS:\n",
    "    print('Estimated number of clusters: %d' % hdbscn_n_clusters_)\n",
    "    # print('Homogeneity: %0.6f' % metrics.homogeneity_score(frames.get(year), hdbscn_labels))\n",
    "    # print('Completeness: %0.6f' % metrics.completeness_score(y, hdbscn_labels))\n",
    "    print('Silhouette Coefficient: %0.6f' % metrics.silhouette_score(frames.get(year), hdbscn_labels))\n",
    "    \n",
    "    print (\"\\n\\n\",\"Cluster 0:\",\"\\n\",cluster0_list)\n",
    "    print (\"\\n\\n\",\"Cluster 1:\",\"\\n\",cluster1_list)\n",
    "    if len(cluster2_list) > 0:\n",
    "        print (\"\\n\\n\",\"Cluster 2:\",\"\\n\",cluster2_list)\n",
    "    else: \"\"\n",
    "    \n",
    "    print (\"\\n\\n\",\"Outliers:\",\"\\n\",cluster_Outlier_list)\n",
    "    \n",
    "    print('\\n',df_componenets.head(10))\n",
    "    print('\\n',df_pca_desc.head(10))\n",
    "    \n",
    "output_all(1965)  "
   ]
  },
  {
   "cell_type": "code",
   "execution_count": 21,
   "metadata": {
    "collapsed": true
   },
   "outputs": [],
   "source": [
    "# When looking at the above output I was able to do this: I noticed that in 1960 a majority of the resolutions\n",
    "# having the greatest weighting from PCA analysis related to resolution related to the Repulic of the Congo.\n",
    "# I can see that the clusters there appears to be a a split along traditional cold war lines.  If I googel Congo\n",
    "# 1960: https://en.wikipedia.org/wiki/Congo_Crisis#United_Nations_escalation_and_the_end_of_the_Katangese_secession\n",
    "# \"Congo Crisis\" comes up on the top.  The page says that there \"August 1960, Central Intelligence Agency (CIA) \n",
    "# agents in the region reported to their agency that \"Congo [is] experiencing [a] classic communist ... takeover\" \n",
    "# and warned that the Congo might follow the same path as Cuba.\". So, not perfect, but the results seem useful."
   ]
  },
  {
   "cell_type": "code",
   "execution_count": 22,
   "metadata": {},
   "outputs": [
    {
     "data": {
      "application/vnd.jupyter.widget-view+json": {
       "model_id": "9b385763d87540f1b8efefb4fb0aac76",
       "version_major": 2,
       "version_minor": 0
      },
      "text/plain": [
       "A Jupyter Widget"
      ]
     },
     "metadata": {},
     "output_type": "display_data"
    },
    {
     "data": {
      "text/plain": [
       "<function __main__.output_all>"
      ]
     },
     "execution_count": 22,
     "metadata": {},
     "output_type": "execute_result"
    }
   ],
   "source": [
    "interact(output_all, year=widgets.IntSlider(min=1960,max=2017,step=1,value=10))"
   ]
  },
  {
   "cell_type": "markdown",
   "metadata": {},
   "source": [
    "# Write Up"
   ]
  },
  {
   "cell_type": "markdown",
   "metadata": {},
   "source": [
    "Write Up\n",
    "This project seeks to understand how countries cooperate or form groupings during United Nations General Assembly.  More specifically, how do their voting records, each year, reflect attitudes toward major international crises and political decision making.  What resolutions are most significant to forming these groupings and how can they help us understand the major historical events of the time.\n",
    "\n",
    "In order to do so, I looked at the entire General Assembly voting record of all countries from 1946 - 2017. I've chosen not to include the voting records of the UN Security Council because of the limit number of members and voting history.\n",
    "\n",
    "## Data Acquisition\n",
    "The data comes from the UN API portal here: http://data.un.org/Host.aspx?Content=API maintained by the United Nations. The specific data I used is organized by Erik Voeten from Harvard Univerity an is available here: https://dataverse.harvard.edu/dataset.xhtml?persistentId=hdl:1902.1/12379. The data includes a large amount of information not needed for the analysis.  In total there are 1,099,156 rows including votes on 5,598 resolutions.\n",
    "   \n",
    "## Data Cleaning and Feature Engineering\n",
    "The data is very clean.  It doesn't include nulls, missing data or any important typos.  The was some cleaning and feature engineering due to unnecessary data as well as a need to reformat and engineer the data for use in modeling.\n",
    "\n",
    "I first removed all records for non-member country voting records (typically coded as \"present\"). These states, when coded as non-members, are included in the data set for consistency.  They had to be removed because they were not able to vote as a non-member and may not have even been nations at the time of voting.  I only wanted to look at 'yes' and 'no, votes so all other vote types were dropped.  With only yes and no votes remaining I changed the coding of yes and no votes to 1 and 0 for processing.  \n",
    "\n",
    "I then create a library of years and built a function to create a dataframe for each year of the approx. 70 years of voting history so that years could be analyzed separately.  \n",
    "\n",
    "For PCA the dataframes for each year are joined with a dataset of resolution descriptions and merged with voting records so that the specifics of each resolution could be visualized if they were important.\n",
    "\n",
    "   \n",
    "## Modeling Process\n",
    "\n",
    "I used HDBSCAN as the basis for this project.  -means and DBSCAN were evaluated, but HDBSCAN performed best in terms of both performance (measure by silhouette score) and in automatically selected the number of  clusters.  I chose a minimum cluster size of 10.  Some years still create errors due to  failure to cluster with that year's information, but min clusters of 10 was the size that created the most consistent clustering over the period the data was collected (1946 - 2017).  The model was found to be successful when it repeatedly produced clusters consistent with historical literature and created a low number of errors when applied to each year.\n",
    "\n",
    "I then passed my data through a Principal Component Analysis (PCA).  This proved useful for feature selection and visualization. PCA served two purposes in this project.  First, it allows the clusters to be visualized in 2D.  Once the model was constructed it proved successful right away.  It shows the size and the arrangement of the yearly clustering.  There are some limitations to the visualization however.  You can see closeness in the clusters, but its difficult to interpret this.  It also doesn't show the geographic layout.  At the moment I'm not able to show which country in the visualization is which.\n",
    "\n",
    "Second, I'm using the PCA analysis to find which resolutions were weighted most heavily.  In other words which resolutions contributed the most variance and therefore would have the greatest effect on clusters in a given year.  This was possible because virtually all the variance was placed on component 1 once the analysis was run.\n",
    "\n",
    "   \n",
    "## Any future deployment strategies, additions of data, or modeling techniques you have yet to try\n",
    "\n",
    "There's a quite a few useful strategies and techniques that can be employed in the future. I would consider include abstaining votes in the model (weighted by a factor based on literature review).  It would also be useful to categorize resolutions based on NLP Topic Modeling. Topics could be used to to better understand clustering around certain issues. I could conceivably rerun models based on specific topic areas, and possibly run clusters over 5-year periods to see long term topic-based trends.\n",
    "\n",
    "It would also be very useful to visualize clusters geographically by placing them on a world map\n",
    "Finally, I would also like to update the output function so that, as the number of member nations increases, the minimum cluster size increases in proportion\n"
   ]
  },
  {
   "cell_type": "code",
   "execution_count": null,
   "metadata": {
    "collapsed": true
   },
   "outputs": [],
   "source": []
  },
  {
   "cell_type": "code",
   "execution_count": null,
   "metadata": {
    "collapsed": true
   },
   "outputs": [],
   "source": []
  },
  {
   "cell_type": "code",
   "execution_count": null,
   "metadata": {
    "collapsed": true
   },
   "outputs": [],
   "source": []
  }
 ],
 "metadata": {
  "kernelspec": {
   "display_name": "Python [default]",
   "language": "python",
   "name": "python3"
  },
  "language_info": {
   "codemirror_mode": {
    "name": "ipython",
    "version": 3
   },
   "file_extension": ".py",
   "mimetype": "text/x-python",
   "name": "python",
   "nbconvert_exporter": "python",
   "pygments_lexer": "ipython3",
   "version": "3.6.3"
  }
 },
 "nbformat": 4,
 "nbformat_minor": 2
}
