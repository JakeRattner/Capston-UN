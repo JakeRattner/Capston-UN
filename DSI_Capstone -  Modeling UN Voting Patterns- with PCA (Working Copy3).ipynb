{
 "cells": [
  {
   "cell_type": "markdown",
   "metadata": {},
   "source": [
    "# Initial EDA on Raw UNGA dataset"
   ]
  },
  {
   "cell_type": "markdown",
   "metadata": {},
   "source": [
    "Data set is taken from here: https://dataverse.harvard.edu/dataset.xhtml?persistentId=hdl:1902.1/12379"
   ]
  },
  {
   "cell_type": "code",
   "execution_count": 1,
   "metadata": {
    "collapsed": true
   },
   "outputs": [],
   "source": [
    "import pandas as pd\n",
    "from matplotlib import pyplot as plt\n",
    "import requests\n",
    "import json\n",
    "import matplotlib.pyplot as plt\n",
    "import seaborn as sns\n",
    "from IPython.display import Image\n",
    "from IPython.core.display import HTML \n",
    "from sklearn.cluster import KMeans, k_means\n",
    "from sklearn.metrics import silhouette_score\n",
    "from sklearn.datasets.samples_generator import make_blobs\n",
    "import numpy as np\n",
    "import ipywidgets as widgets\n",
    "import matplotlib.pyplot as plt\n",
    "import matplotlib\n",
    "matplotlib.style.use('ggplot')\n",
    "from sklearn.preprocessing import scale\n",
    "%matplotlib inline\n",
    "import hdbscan\n",
    "from sklearn import metrics\n",
    "from sklearn.cluster import DBSCAN\n",
    "from sklearn.decomposition import PCA\n",
    "from __future__ import print_function\n",
    "from ipywidgets import interact, interactive, fixed, interact_manual\n",
    "import ipywidgets as widgets"
   ]
  },
  {
   "cell_type": "code",
   "execution_count": 2,
   "metadata": {
    "collapsed": true
   },
   "outputs": [],
   "source": [
    "df_votes = pd.read_csv('~/Desktop/dataverse_files/UNVotes1-72.tab',sep='\\t')"
   ]
  },
  {
   "cell_type": "code",
   "execution_count": 3,
   "metadata": {
    "collapsed": true
   },
   "outputs": [],
   "source": [
    "df_votes_year = df_votes.drop(['Country', 'Countryname'], axis=1) "
   ]
  },
  {
   "cell_type": "code",
   "execution_count": 4,
   "metadata": {},
   "outputs": [
    {
     "data": {
      "text/html": [
       "<div>\n",
       "<style>\n",
       "    .dataframe thead tr:only-child th {\n",
       "        text-align: right;\n",
       "    }\n",
       "\n",
       "    .dataframe thead th {\n",
       "        text-align: left;\n",
       "    }\n",
       "\n",
       "    .dataframe tbody tr th {\n",
       "        vertical-align: top;\n",
       "    }\n",
       "</style>\n",
       "<table border=\"1\" class=\"dataframe\">\n",
       "  <thead>\n",
       "    <tr style=\"text-align: right;\">\n",
       "      <th></th>\n",
       "      <th>rcid</th>\n",
       "      <th>ccode</th>\n",
       "      <th>session</th>\n",
       "      <th>member</th>\n",
       "      <th>vote</th>\n",
       "      <th>year</th>\n",
       "    </tr>\n",
       "  </thead>\n",
       "  <tbody>\n",
       "    <tr>\n",
       "      <th>0</th>\n",
       "      <td>3.0</td>\n",
       "      <td>2</td>\n",
       "      <td>1.0</td>\n",
       "      <td>1.0</td>\n",
       "      <td>1</td>\n",
       "      <td>1946</td>\n",
       "    </tr>\n",
       "    <tr>\n",
       "      <th>1</th>\n",
       "      <td>3.0</td>\n",
       "      <td>20</td>\n",
       "      <td>1.0</td>\n",
       "      <td>1.0</td>\n",
       "      <td>3</td>\n",
       "      <td>1946</td>\n",
       "    </tr>\n",
       "  </tbody>\n",
       "</table>\n",
       "</div>"
      ],
      "text/plain": [
       "   rcid  ccode  session  member  vote  year\n",
       "0   3.0      2      1.0     1.0     1  1946\n",
       "1   3.0     20      1.0     1.0     3  1946"
      ]
     },
     "execution_count": 4,
     "metadata": {},
     "output_type": "execute_result"
    }
   ],
   "source": [
    "# Set a DF to only yes and no votes (0 nd 3)\n",
    "df_votes_year_binary = df_votes_year[(df_votes_year.vote <= 1) | (df_votes_year.vote == 3)]\n",
    "df_votes_year_binary.head(2)"
   ]
  },
  {
   "cell_type": "code",
   "execution_count": 5,
   "metadata": {},
   "outputs": [
    {
     "name": "stderr",
     "output_type": "stream",
     "text": [
      "/Users/jakerattner/anaconda3/lib/python3.6/site-packages/pandas/core/generic.py:3110: SettingWithCopyWarning: \n",
      "A value is trying to be set on a copy of a slice from a DataFrame.\n",
      "Try using .loc[row_indexer,col_indexer] = value instead\n",
      "\n",
      "See the caveats in the documentation: http://pandas.pydata.org/pandas-docs/stable/indexing.html#indexing-view-versus-copy\n",
      "  self[name] = value\n"
     ]
    },
    {
     "data": {
      "text/html": [
       "<div>\n",
       "<style>\n",
       "    .dataframe thead tr:only-child th {\n",
       "        text-align: right;\n",
       "    }\n",
       "\n",
       "    .dataframe thead th {\n",
       "        text-align: left;\n",
       "    }\n",
       "\n",
       "    .dataframe tbody tr th {\n",
       "        vertical-align: top;\n",
       "    }\n",
       "</style>\n",
       "<table border=\"1\" class=\"dataframe\">\n",
       "  <thead>\n",
       "    <tr style=\"text-align: right;\">\n",
       "      <th></th>\n",
       "      <th>rcid</th>\n",
       "      <th>ccode</th>\n",
       "      <th>session</th>\n",
       "      <th>member</th>\n",
       "      <th>vote</th>\n",
       "      <th>year</th>\n",
       "    </tr>\n",
       "  </thead>\n",
       "  <tbody>\n",
       "    <tr>\n",
       "      <th>0</th>\n",
       "      <td>3.0</td>\n",
       "      <td>2</td>\n",
       "      <td>1.0</td>\n",
       "      <td>1.0</td>\n",
       "      <td>1</td>\n",
       "      <td>1946</td>\n",
       "    </tr>\n",
       "    <tr>\n",
       "      <th>1</th>\n",
       "      <td>3.0</td>\n",
       "      <td>20</td>\n",
       "      <td>1.0</td>\n",
       "      <td>1.0</td>\n",
       "      <td>0</td>\n",
       "      <td>1946</td>\n",
       "    </tr>\n",
       "  </tbody>\n",
       "</table>\n",
       "</div>"
      ],
      "text/plain": [
       "   rcid  ccode  session  member  vote  year\n",
       "0   3.0      2      1.0     1.0     1  1946\n",
       "1   3.0     20      1.0     1.0     0  1946"
      ]
     },
     "execution_count": 5,
     "metadata": {},
     "output_type": "execute_result"
    }
   ],
   "source": [
    "# I want to turn my 1 = yes and 3 = no into 0 = no and 1 = yes\n",
    "df_votes_year_binary.vote = df_votes_year_binary.vote.replace(to_replace=3, value=0, inplace=False, limit=None, regex=False, method='pad', axis=None)\n",
    "df_votes_year_binary.head(2)\n"
   ]
  },
  {
   "cell_type": "code",
   "execution_count": 6,
   "metadata": {
    "collapsed": true
   },
   "outputs": [],
   "source": [
    "df_year_features = df_votes_year_binary.drop(['session'], axis=1)"
   ]
  },
  {
   "cell_type": "code",
   "execution_count": 7,
   "metadata": {},
   "outputs": [
    {
     "data": {
      "text/html": [
       "<div>\n",
       "<style>\n",
       "    .dataframe thead tr:only-child th {\n",
       "        text-align: right;\n",
       "    }\n",
       "\n",
       "    .dataframe thead th {\n",
       "        text-align: left;\n",
       "    }\n",
       "\n",
       "    .dataframe tbody tr th {\n",
       "        vertical-align: top;\n",
       "    }\n",
       "</style>\n",
       "<table border=\"1\" class=\"dataframe\">\n",
       "  <thead>\n",
       "    <tr style=\"text-align: right;\">\n",
       "      <th></th>\n",
       "      <th>rcid</th>\n",
       "      <th>ccode</th>\n",
       "      <th>member</th>\n",
       "      <th>vote</th>\n",
       "      <th>year</th>\n",
       "    </tr>\n",
       "  </thead>\n",
       "  <tbody>\n",
       "    <tr>\n",
       "      <th>0</th>\n",
       "      <td>3.0</td>\n",
       "      <td>2</td>\n",
       "      <td>1.0</td>\n",
       "      <td>1</td>\n",
       "      <td>1946</td>\n",
       "    </tr>\n",
       "    <tr>\n",
       "      <th>1</th>\n",
       "      <td>3.0</td>\n",
       "      <td>20</td>\n",
       "      <td>1.0</td>\n",
       "      <td>0</td>\n",
       "      <td>1946</td>\n",
       "    </tr>\n",
       "  </tbody>\n",
       "</table>\n",
       "</div>"
      ],
      "text/plain": [
       "   rcid  ccode  member  vote  year\n",
       "0   3.0      2     1.0     1  1946\n",
       "1   3.0     20     1.0     0  1946"
      ]
     },
     "execution_count": 7,
     "metadata": {},
     "output_type": "execute_result"
    }
   ],
   "source": [
    "df_year_features.head(2)"
   ]
  },
  {
   "cell_type": "code",
   "execution_count": 8,
   "metadata": {
    "collapsed": true
   },
   "outputs": [],
   "source": [
    "df_year_features = df_year_features[df_year_features.member == 1]"
   ]
  },
  {
   "cell_type": "code",
   "execution_count": 9,
   "metadata": {
    "collapsed": true,
    "scrolled": true
   },
   "outputs": [],
   "source": [
    "# NOT SURE THIS CODE WILL BE NEEDED\n",
    "# df_year_features['ccode'] = df_year_features['ccode'].astype(str)\n",
    "# df_year_features['year'] = df_year_features['year'].astype(str)\n",
    "# df_year_features['v_res'] = df_year_features['year'] + \"-\" + df_year_features['ccode']"
   ]
  },
  {
   "cell_type": "code",
   "execution_count": 10,
   "metadata": {
    "collapsed": true
   },
   "outputs": [],
   "source": [
    "df_year_features['v_res'] = df_year_features['rcid']*df_year_features['vote']"
   ]
  },
  {
   "cell_type": "code",
   "execution_count": 11,
   "metadata": {},
   "outputs": [
    {
     "data": {
      "text/html": [
       "<div>\n",
       "<style>\n",
       "    .dataframe thead tr:only-child th {\n",
       "        text-align: right;\n",
       "    }\n",
       "\n",
       "    .dataframe thead th {\n",
       "        text-align: left;\n",
       "    }\n",
       "\n",
       "    .dataframe tbody tr th {\n",
       "        vertical-align: top;\n",
       "    }\n",
       "</style>\n",
       "<table border=\"1\" class=\"dataframe\">\n",
       "  <thead>\n",
       "    <tr style=\"text-align: right;\">\n",
       "      <th></th>\n",
       "      <th>ccode</th>\n",
       "      <th>Countryname</th>\n",
       "    </tr>\n",
       "  </thead>\n",
       "  <tbody>\n",
       "    <tr>\n",
       "      <th>0</th>\n",
       "      <td>2</td>\n",
       "      <td>United States of America</td>\n",
       "    </tr>\n",
       "    <tr>\n",
       "      <th>1</th>\n",
       "      <td>20</td>\n",
       "      <td>Canada</td>\n",
       "    </tr>\n",
       "  </tbody>\n",
       "</table>\n",
       "</div>"
      ],
      "text/plain": [
       "   ccode               Countryname\n",
       "0      2  United States of America\n",
       "1     20                    Canada"
      ]
     },
     "execution_count": 11,
     "metadata": {},
     "output_type": "execute_result"
    }
   ],
   "source": [
    "df_votes[['ccode','Countryname']].head(2)"
   ]
  },
  {
   "cell_type": "code",
   "execution_count": 12,
   "metadata": {},
   "outputs": [
    {
     "data": {
      "text/html": [
       "<div>\n",
       "<style>\n",
       "    .dataframe thead tr:only-child th {\n",
       "        text-align: right;\n",
       "    }\n",
       "\n",
       "    .dataframe thead th {\n",
       "        text-align: left;\n",
       "    }\n",
       "\n",
       "    .dataframe tbody tr th {\n",
       "        vertical-align: top;\n",
       "    }\n",
       "</style>\n",
       "<table border=\"1\" class=\"dataframe\">\n",
       "  <thead>\n",
       "    <tr style=\"text-align: right;\">\n",
       "      <th></th>\n",
       "      <th>ccode</th>\n",
       "      <th>Countryname</th>\n",
       "    </tr>\n",
       "  </thead>\n",
       "  <tbody>\n",
       "    <tr>\n",
       "      <th>0</th>\n",
       "      <td>2</td>\n",
       "      <td>United States of America</td>\n",
       "    </tr>\n",
       "    <tr>\n",
       "      <th>1</th>\n",
       "      <td>20</td>\n",
       "      <td>Canada</td>\n",
       "    </tr>\n",
       "  </tbody>\n",
       "</table>\n",
       "</div>"
      ],
      "text/plain": [
       "   ccode               Countryname\n",
       "0      2  United States of America\n",
       "1     20                    Canada"
      ]
     },
     "execution_count": 12,
     "metadata": {},
     "output_type": "execute_result"
    }
   ],
   "source": [
    "df_name_index = pd.DataFrame(df_votes.groupby(['ccode', 'Countryname'])['Countryname'].count())\n",
    "df_name_index['count'] = df_name_index.Countryname\n",
    "df_name_index = df_name_index.drop([ 'Countryname','count'], axis=1)\n",
    "df_name_index.reset_index(inplace=True)\n",
    "df_name_index.head(2)\n"
   ]
  },
  {
   "cell_type": "markdown",
   "metadata": {},
   "source": [
    "# Create function to create DFs for multiple years"
   ]
  },
  {
   "cell_type": "code",
   "execution_count": 13,
   "metadata": {
    "scrolled": true
   },
   "outputs": [
    {
     "data": {
      "text/html": [
       "<div>\n",
       "<style>\n",
       "    .dataframe thead tr:only-child th {\n",
       "        text-align: right;\n",
       "    }\n",
       "\n",
       "    .dataframe thead th {\n",
       "        text-align: left;\n",
       "    }\n",
       "\n",
       "    .dataframe tbody tr th {\n",
       "        vertical-align: top;\n",
       "    }\n",
       "</style>\n",
       "<table border=\"1\" class=\"dataframe\">\n",
       "  <thead>\n",
       "    <tr style=\"text-align: right;\">\n",
       "      <th></th>\n",
       "      <th>rcid</th>\n",
       "      <th>ccode</th>\n",
       "      <th>member</th>\n",
       "      <th>vote</th>\n",
       "      <th>year</th>\n",
       "      <th>v_res</th>\n",
       "    </tr>\n",
       "  </thead>\n",
       "  <tbody>\n",
       "    <tr>\n",
       "      <th>0</th>\n",
       "      <td>3.0</td>\n",
       "      <td>2</td>\n",
       "      <td>1.0</td>\n",
       "      <td>1</td>\n",
       "      <td>1946</td>\n",
       "      <td>3.0</td>\n",
       "    </tr>\n",
       "    <tr>\n",
       "      <th>1</th>\n",
       "      <td>3.0</td>\n",
       "      <td>20</td>\n",
       "      <td>1.0</td>\n",
       "      <td>0</td>\n",
       "      <td>1946</td>\n",
       "      <td>0.0</td>\n",
       "    </tr>\n",
       "    <tr>\n",
       "      <th>3</th>\n",
       "      <td>3.0</td>\n",
       "      <td>40</td>\n",
       "      <td>1.0</td>\n",
       "      <td>1</td>\n",
       "      <td>1946</td>\n",
       "      <td>3.0</td>\n",
       "    </tr>\n",
       "  </tbody>\n",
       "</table>\n",
       "</div>"
      ],
      "text/plain": [
       "   rcid  ccode  member  vote  year  v_res\n",
       "0   3.0      2     1.0     1  1946    3.0\n",
       "1   3.0     20     1.0     0  1946    0.0\n",
       "3   3.0     40     1.0     1  1946    3.0"
      ]
     },
     "execution_count": 13,
     "metadata": {},
     "output_type": "execute_result"
    }
   ],
   "source": [
    "df_year_features.head(3)"
   ]
  },
  {
   "cell_type": "code",
   "execution_count": 14,
   "metadata": {
    "collapsed": true
   },
   "outputs": [],
   "source": [
    "def create_year_df(year):\n",
    "    df_output_year = df_year_features[df_year_features['year'] == year]\n",
    "    df_output_year = pd.concat([df_output_year,pd.get_dummies(df_output_year.v_res, prefix='res_')], axis = 1)\n",
    "    try:\n",
    "        df_output_year = df_output_year.drop(['year','rcid','member','v_res','vote', 'res__0.0'], axis=1)\n",
    "    except:\n",
    "        pass \n",
    "    df_output_year = df_output_year.set_index('ccode')\n",
    "    df_output_year = df_output_year.groupby('ccode').sum()\n",
    "    \n",
    "    return df_output_year\n",
    "create_year_df(1959); "
   ]
  },
  {
   "cell_type": "code",
   "execution_count": 15,
   "metadata": {
    "collapsed": true
   },
   "outputs": [],
   "source": [
    "frames = {}\n",
    "groups = [1960, 1961, 1962, 1963, 1964, 1965, 1966, 1967, 1968, 1969, 1970, 1971, 1972, 1973, 1974,\n",
    "          1975, 1976, 1977, 1978, 1978, 1980, 1981, 1982, 1983, 1984, 1985, 1986, 1986, 1988, 1989,\n",
    "          1990, 1991, 1992, 1993, 1994, 1995, 1996, 1997, 1998, 1999, 2000, 2001, 2002, 2003, 2004,\n",
    "          2005, 2006, 2007, 2008, 2009, 2010, 2011, 2012, 2013, 2014, 2015, 2016, 2017]\n",
    "for grp in groups: \n",
    "    frames[grp] = create_year_df(grp)  "
   ]
  },
  {
   "cell_type": "code",
   "execution_count": 16,
   "metadata": {},
   "outputs": [
    {
     "data": {
      "text/plain": [
       "dict_keys([1960, 1961, 1962, 1963, 1964, 1965, 1966, 1967, 1968, 1969, 1970, 1971, 1972, 1973, 1974, 1975, 1976, 1977, 1978, 1980, 1981, 1982, 1983, 1984, 1985, 1986, 1988, 1989, 1990, 1991, 1992, 1993, 1994, 1995, 1996, 1997, 1998, 1999, 2000, 2001, 2002, 2003, 2004, 2005, 2006, 2007, 2008, 2009, 2010, 2011, 2012, 2013, 2014, 2015, 2016, 2017])"
      ]
     },
     "execution_count": 16,
     "metadata": {},
     "output_type": "execute_result"
    }
   ],
   "source": [
    "frames.keys()"
   ]
  },
  {
   "cell_type": "code",
   "execution_count": 17,
   "metadata": {},
   "outputs": [
    {
     "data": {
      "text/html": [
       "<div>\n",
       "<style>\n",
       "    .dataframe thead tr:only-child th {\n",
       "        text-align: right;\n",
       "    }\n",
       "\n",
       "    .dataframe thead th {\n",
       "        text-align: left;\n",
       "    }\n",
       "\n",
       "    .dataframe tbody tr th {\n",
       "        vertical-align: top;\n",
       "    }\n",
       "</style>\n",
       "<table border=\"1\" class=\"dataframe\">\n",
       "  <thead>\n",
       "    <tr style=\"text-align: right;\">\n",
       "      <th></th>\n",
       "      <th>res__5546.0</th>\n",
       "      <th>res__5547.0</th>\n",
       "      <th>res__5548.0</th>\n",
       "      <th>res__5549.0</th>\n",
       "      <th>res__5550.0</th>\n",
       "      <th>res__5551.0</th>\n",
       "      <th>res__5552.0</th>\n",
       "      <th>res__5553.0</th>\n",
       "      <th>res__5554.0</th>\n",
       "      <th>res__5555.0</th>\n",
       "      <th>...</th>\n",
       "      <th>res__5630.0</th>\n",
       "      <th>res__5631.0</th>\n",
       "      <th>res__5632.0</th>\n",
       "      <th>res__5633.0</th>\n",
       "      <th>res__5634.0</th>\n",
       "      <th>res__5635.0</th>\n",
       "      <th>res__5636.0</th>\n",
       "      <th>res__5637.0</th>\n",
       "      <th>res__5638.0</th>\n",
       "      <th>res__5639.0</th>\n",
       "    </tr>\n",
       "    <tr>\n",
       "      <th>ccode</th>\n",
       "      <th></th>\n",
       "      <th></th>\n",
       "      <th></th>\n",
       "      <th></th>\n",
       "      <th></th>\n",
       "      <th></th>\n",
       "      <th></th>\n",
       "      <th></th>\n",
       "      <th></th>\n",
       "      <th></th>\n",
       "      <th></th>\n",
       "      <th></th>\n",
       "      <th></th>\n",
       "      <th></th>\n",
       "      <th></th>\n",
       "      <th></th>\n",
       "      <th></th>\n",
       "      <th></th>\n",
       "      <th></th>\n",
       "      <th></th>\n",
       "      <th></th>\n",
       "    </tr>\n",
       "  </thead>\n",
       "  <tbody>\n",
       "    <tr>\n",
       "      <th>2</th>\n",
       "      <td>1</td>\n",
       "      <td>0</td>\n",
       "      <td>0</td>\n",
       "      <td>0</td>\n",
       "      <td>0</td>\n",
       "      <td>0</td>\n",
       "      <td>0</td>\n",
       "      <td>0</td>\n",
       "      <td>0</td>\n",
       "      <td>0</td>\n",
       "      <td>...</td>\n",
       "      <td>0</td>\n",
       "      <td>0</td>\n",
       "      <td>0</td>\n",
       "      <td>0</td>\n",
       "      <td>0</td>\n",
       "      <td>0</td>\n",
       "      <td>0</td>\n",
       "      <td>0</td>\n",
       "      <td>0</td>\n",
       "      <td>0</td>\n",
       "    </tr>\n",
       "    <tr>\n",
       "      <th>20</th>\n",
       "      <td>1</td>\n",
       "      <td>0</td>\n",
       "      <td>0</td>\n",
       "      <td>1</td>\n",
       "      <td>0</td>\n",
       "      <td>0</td>\n",
       "      <td>0</td>\n",
       "      <td>0</td>\n",
       "      <td>0</td>\n",
       "      <td>0</td>\n",
       "      <td>...</td>\n",
       "      <td>0</td>\n",
       "      <td>0</td>\n",
       "      <td>1</td>\n",
       "      <td>0</td>\n",
       "      <td>0</td>\n",
       "      <td>1</td>\n",
       "      <td>0</td>\n",
       "      <td>0</td>\n",
       "      <td>1</td>\n",
       "      <td>0</td>\n",
       "    </tr>\n",
       "    <tr>\n",
       "      <th>31</th>\n",
       "      <td>1</td>\n",
       "      <td>1</td>\n",
       "      <td>1</td>\n",
       "      <td>1</td>\n",
       "      <td>1</td>\n",
       "      <td>1</td>\n",
       "      <td>1</td>\n",
       "      <td>1</td>\n",
       "      <td>1</td>\n",
       "      <td>1</td>\n",
       "      <td>...</td>\n",
       "      <td>1</td>\n",
       "      <td>1</td>\n",
       "      <td>1</td>\n",
       "      <td>1</td>\n",
       "      <td>1</td>\n",
       "      <td>1</td>\n",
       "      <td>1</td>\n",
       "      <td>1</td>\n",
       "      <td>0</td>\n",
       "      <td>1</td>\n",
       "    </tr>\n",
       "    <tr>\n",
       "      <th>40</th>\n",
       "      <td>0</td>\n",
       "      <td>1</td>\n",
       "      <td>1</td>\n",
       "      <td>1</td>\n",
       "      <td>1</td>\n",
       "      <td>1</td>\n",
       "      <td>1</td>\n",
       "      <td>1</td>\n",
       "      <td>1</td>\n",
       "      <td>1</td>\n",
       "      <td>...</td>\n",
       "      <td>1</td>\n",
       "      <td>1</td>\n",
       "      <td>1</td>\n",
       "      <td>1</td>\n",
       "      <td>1</td>\n",
       "      <td>1</td>\n",
       "      <td>1</td>\n",
       "      <td>1</td>\n",
       "      <td>1</td>\n",
       "      <td>1</td>\n",
       "    </tr>\n",
       "    <tr>\n",
       "      <th>41</th>\n",
       "      <td>1</td>\n",
       "      <td>0</td>\n",
       "      <td>0</td>\n",
       "      <td>1</td>\n",
       "      <td>0</td>\n",
       "      <td>0</td>\n",
       "      <td>0</td>\n",
       "      <td>0</td>\n",
       "      <td>0</td>\n",
       "      <td>0</td>\n",
       "      <td>...</td>\n",
       "      <td>0</td>\n",
       "      <td>0</td>\n",
       "      <td>1</td>\n",
       "      <td>0</td>\n",
       "      <td>0</td>\n",
       "      <td>1</td>\n",
       "      <td>1</td>\n",
       "      <td>0</td>\n",
       "      <td>0</td>\n",
       "      <td>1</td>\n",
       "    </tr>\n",
       "  </tbody>\n",
       "</table>\n",
       "<p>5 rows × 94 columns</p>\n",
       "</div>"
      ],
      "text/plain": [
       "       res__5546.0  res__5547.0  res__5548.0  res__5549.0  res__5550.0  \\\n",
       "ccode                                                                    \n",
       "2                1            0            0            0            0   \n",
       "20               1            0            0            1            0   \n",
       "31               1            1            1            1            1   \n",
       "40               0            1            1            1            1   \n",
       "41               1            0            0            1            0   \n",
       "\n",
       "       res__5551.0  res__5552.0  res__5553.0  res__5554.0  res__5555.0  \\\n",
       "ccode                                                                    \n",
       "2                0            0            0            0            0   \n",
       "20               0            0            0            0            0   \n",
       "31               1            1            1            1            1   \n",
       "40               1            1            1            1            1   \n",
       "41               0            0            0            0            0   \n",
       "\n",
       "          ...       res__5630.0  res__5631.0  res__5632.0  res__5633.0  \\\n",
       "ccode     ...                                                            \n",
       "2         ...                 0            0            0            0   \n",
       "20        ...                 0            0            1            0   \n",
       "31        ...                 1            1            1            1   \n",
       "40        ...                 1            1            1            1   \n",
       "41        ...                 0            0            1            0   \n",
       "\n",
       "       res__5634.0  res__5635.0  res__5636.0  res__5637.0  res__5638.0  \\\n",
       "ccode                                                                    \n",
       "2                0            0            0            0            0   \n",
       "20               0            1            0            0            1   \n",
       "31               1            1            1            1            0   \n",
       "40               1            1            1            1            1   \n",
       "41               0            1            1            0            0   \n",
       "\n",
       "       res__5639.0  \n",
       "ccode               \n",
       "2                0  \n",
       "20               0  \n",
       "31               1  \n",
       "40               1  \n",
       "41               1  \n",
       "\n",
       "[5 rows x 94 columns]"
      ]
     },
     "execution_count": 17,
     "metadata": {},
     "output_type": "execute_result"
    }
   ],
   "source": [
    "frames.get(2017).head()"
   ]
  },
  {
   "cell_type": "markdown",
   "metadata": {},
   "source": [
    "## Make sure I've filtered non-member countries out of every year!"
   ]
  },
  {
   "cell_type": "code",
   "execution_count": 18,
   "metadata": {},
   "outputs": [
    {
     "name": "stdout",
     "output_type": "stream",
     "text": [
      "Estimated number of clusters: 2\n",
      "Silhouette Coefficient: 0.233119\n",
      "\n",
      "\n",
      "  Cluster 0: ['Cuba', 'Poland', 'Hungary', 'Czechoslovakia', 'Albania', 'Yugoslavia', 'Bulgaria', 'Romania', 'Russian Federation', 'Ukraine', 'Belarus', 'Mali', 'Benin', 'Niger', \"Côte D'Ivoire\", 'Guinea', 'Ghana', 'Togo', 'Nigeria', 'Central African Republic', 'Chad', 'Somalia', 'Ethiopia', 'Madagascar', 'Morocco', 'Libya', 'Sudan', 'Iraq', 'Egypt', 'Israel', 'Saudi Arabia', 'Yemen Arab Republic', 'Afghanistan', 'India', 'Myanmar', 'Sri Lanka', 'Nepal', \"Lao People's Democratic Republic\", 'Indonesia'] \n",
      "\n",
      " Cluster 1: ['United States of America', 'Canada', 'Haiti', 'Dominican Republic', 'Guatemala', 'Honduras', 'El Salvador', 'Nicaragua', 'Costa Rica', 'Panama', 'Colombia', 'Venezuela, Bolivarian Republic of', 'Ecuador', 'Peru', 'Brazil', 'Bolivia (Plurinational State of)', 'Paraguay', 'Chile', 'Argentina', 'Uruguay', 'United Kingdom of Great Britain and Northern Ireland', 'Netherlands', 'Belgium', 'Luxembourg', 'France', 'Spain', 'Portugal', 'Austria', 'Italy', 'Greece', 'Norway', 'Denmark', 'Iceland', 'Iran (Islamic Republic of)', 'Turkey', 'Taiwan, Province of China', 'Japan', 'Pakistan', 'Thailand', 'Philippines', 'Australia', 'New Zealand'] \n",
      "\n",
      " Cluster 2: [] \n",
      "\n",
      " Outliers: ['Mexico', 'Ireland', 'Cyprus', 'Finland', 'Sweden', 'Senegal', 'Burkina Faso', 'Liberia', 'Cameroon', 'Gabon', 'Congo', 'Democratic Republic of the Congo', 'South Africa', 'Tunisia', 'Lebanon', 'Jordan', 'Cambodia', 'Malaysia']\n",
      "       res__627.0  res__628.0  res__629.0  res__630.0  res__631.0  res__632.0  \\\n",
      "ccode                                                                           \n",
      "2               1           1           0           1           0           0   \n",
      "20              1           1           0           1           0           0   \n",
      "40              0           0           1           0           1           1   \n",
      "41              0           1           0           1           0           0   \n",
      "42              0           1           0           1           0           0   \n",
      "70              0           0           0           1           0           0   \n",
      "90              0           1           0           1           0           0   \n",
      "91              0           1           0           1           0           0   \n",
      "92              0           0           0           0           0           0   \n",
      "93              0           1           0           1           0           0   \n",
      "94              0           1           0           1           0           0   \n",
      "95              0           0           0           0           0           0   \n",
      "100             0           1           0           1           0           0   \n",
      "101             0           0           1           0           0           0   \n",
      "130             0           0           0           0           0           0   \n",
      "135             0           1           0           1           0           0   \n",
      "140             0           1           0           1           0           0   \n",
      "145             0           0           1           0           0           0   \n",
      "150             0           1           0           1           0           0   \n",
      "155             0           1           0           0           0           0   \n",
      "160             0           1           0           1           0           0   \n",
      "165             0           1           0           1           0           0   \n",
      "200             1           1           0           1           0           0   \n",
      "205             0           1           0           1           1           1   \n",
      "210             0           1           0           1           0           0   \n",
      "211             0           1           0           1           0           0   \n",
      "212             0           1           0           1           0           0   \n",
      "220             1           1           0           1           0           0   \n",
      "230             0           1           0           1           0           0   \n",
      "235             0           1           0           1           0           0   \n",
      "...           ...         ...         ...         ...         ...         ...   \n",
      "580             0           0           1           0           0           0   \n",
      "600             0           0           1           0           1           1   \n",
      "616             0           0           0           0           0           0   \n",
      "620             0           0           1           0           0           0   \n",
      "625             0           0           1           0           1           1   \n",
      "630             0           0           0           1           0           0   \n",
      "640             0           1           0           1           0           0   \n",
      "645             0           0           1           1           1           1   \n",
      "651             0           0           1           0           1           1   \n",
      "660             0           0           0           1           0           0   \n",
      "663             0           0           1           0           0           0   \n",
      "666             0           0           0           0           0           0   \n",
      "670             0           0           1           0           0           0   \n",
      "678             0           0           1           0           1           1   \n",
      "700             0           0           1           0           1           1   \n",
      "713             0           1           0           1           0           0   \n",
      "740             0           1           0           1           0           0   \n",
      "750             0           0           1           0           1           1   \n",
      "770             0           1           0           1           0           0   \n",
      "775             0           0           1           0           1           1   \n",
      "780             0           0           1           0           1           1   \n",
      "790             0           0           1           0           1           1   \n",
      "800             0           1           0           1           0           0   \n",
      "811             0           0           1           0           1           1   \n",
      "812             0           0           1           0           0           0   \n",
      "820             0           0           1           0           0           0   \n",
      "840             0           1           0           1           0           0   \n",
      "850             0           0           1           0           1           1   \n",
      "900             1           1           0           1           0           0   \n",
      "920             0           1           0           1           0           0   \n",
      "\n",
      "       res__633.0  res__634.0  res__635.0  res__636.0   ...     res__672.0  \\\n",
      "ccode                                                   ...                  \n",
      "2               0           1           1           1   ...              1   \n",
      "20              0           1           1           1   ...              1   \n",
      "40              1           0           0           0   ...              0   \n",
      "41              0           1           1           1   ...              1   \n",
      "42              0           1           1           1   ...              0   \n",
      "70              0           0           1           1   ...              0   \n",
      "90              0           1           1           1   ...              1   \n",
      "91              0           1           1           1   ...              1   \n",
      "92              0           1           1           1   ...              1   \n",
      "93              0           1           1           1   ...              1   \n",
      "94              0           1           1           1   ...              1   \n",
      "95              0           1           0           1   ...              1   \n",
      "100             0           1           1           1   ...              1   \n",
      "101             0           0           1           1   ...              0   \n",
      "130             0           0           1           1   ...              1   \n",
      "135             0           1           1           1   ...              1   \n",
      "140             0           1           1           1   ...              1   \n",
      "145             0           1           1           1   ...              1   \n",
      "150             0           1           1           1   ...              1   \n",
      "155             0           1           1           1   ...              1   \n",
      "160             0           1           1           1   ...              1   \n",
      "165             0           1           1           1   ...              1   \n",
      "200             0           1           1           1   ...              1   \n",
      "205             1           0           0           0   ...              1   \n",
      "210             0           1           1           1   ...              1   \n",
      "211             0           1           1           1   ...              1   \n",
      "212             0           1           1           1   ...              1   \n",
      "220             0           1           1           1   ...              0   \n",
      "230             0           1           1           1   ...              1   \n",
      "235             0           0           0           0   ...              0   \n",
      "...           ...         ...         ...         ...   ...            ...   \n",
      "580             0           0           0           0   ...              0   \n",
      "600             1           0           0           0   ...              0   \n",
      "616             0           0           0           0   ...              0   \n",
      "620             0           0           0           0   ...              0   \n",
      "625             1           0           0           0   ...              0   \n",
      "630             0           1           1           1   ...              1   \n",
      "640             0           1           1           1   ...              1   \n",
      "645             1           0           0           0   ...              0   \n",
      "651             1           0           0           0   ...              0   \n",
      "660             0           1           1           1   ...              0   \n",
      "663             0           1           1           1   ...              0   \n",
      "666             0           0           0           0   ...              1   \n",
      "670             0           0           0           0   ...              0   \n",
      "678             1           0           0           0   ...              0   \n",
      "700             1           0           0           0   ...              0   \n",
      "713             0           1           1           1   ...              1   \n",
      "740             0           1           1           1   ...              1   \n",
      "750             1           0           0           0   ...              0   \n",
      "770             0           1           1           1   ...              1   \n",
      "775             1           0           0           0   ...              0   \n",
      "780             1           0           0           0   ...              0   \n",
      "790             1           0           0           0   ...              0   \n",
      "800             0           1           1           1   ...              1   \n",
      "811             1           0           0           0   ...              0   \n",
      "812             0           0           0           0   ...              1   \n",
      "820             0           0           0           0   ...              1   \n",
      "840             0           1           1           1   ...              1   \n",
      "850             1           0           0           0   ...              0   \n",
      "900             0           1           1           1   ...              1   \n",
      "920             0           0           1           1   ...              1   \n",
      "\n",
      "       res__673.0  res__674.0  res__675.0  res__676.0  res__677.0  res__678.0  \\\n",
      "ccode                                                                           \n",
      "2               0           0           0           0           0           1   \n",
      "20              1           1           1           0           0           1   \n",
      "40              1           1           1           1           1           0   \n",
      "41              0           1           1           1           0           0   \n",
      "42              0           1           1           0           0           0   \n",
      "70              1           1           1           0           0           0   \n",
      "90              0           1           1           1           0           0   \n",
      "91              1           1           1           1           0           0   \n",
      "92              0           1           1           1           0           0   \n",
      "93              0           1           1           0           0           1   \n",
      "94              1           1           1           0           0           0   \n",
      "95              1           1           1           0           0           1   \n",
      "100             0           1           1           0           0           1   \n",
      "101             1           1           1           1           0           0   \n",
      "130             1           1           1           0           0           0   \n",
      "135             0           1           1           0           0           0   \n",
      "140             0           1           1           1           0           1   \n",
      "145             0           1           1           1           0           0   \n",
      "150             0           1           1           1           0           1   \n",
      "155             1           1           1           0           0           1   \n",
      "160             1           1           1           0           0           1   \n",
      "165             0           1           1           1           1           1   \n",
      "200             0           1           1           0           0           1   \n",
      "205             1           1           1           0           0           1   \n",
      "210             0           1           0           0           0           1   \n",
      "211             0           0           0           0           0           0   \n",
      "212             0           1           0           0           0           1   \n",
      "220             0           0           0           0           0           0   \n",
      "230             0           0           0           0           0           0   \n",
      "235             0           1           1           0           0           1   \n",
      "...           ...         ...         ...         ...         ...         ...   \n",
      "580             1           1           1           1           1           0   \n",
      "600             1           1           1           1           1           0   \n",
      "616             1           1           1           1           1           1   \n",
      "620             1           1           1           1           1           0   \n",
      "625             1           1           1           1           1           1   \n",
      "630             1           1           1           1           1           1   \n",
      "640             0           0           0           0           0           1   \n",
      "645             1           1           1           1           1           0   \n",
      "651             1           1           1           1           1           0   \n",
      "660             1           1           1           1           1           0   \n",
      "663             1           1           1           1           1           0   \n",
      "666             1           1           0           1           0           1   \n",
      "670             1           1           1           1           1           0   \n",
      "678             1           1           1           1           1           0   \n",
      "700             1           1           1           1           1           0   \n",
      "713             0           1           0           0           0           1   \n",
      "740             1           1           1           0           0           1   \n",
      "750             1           1           1           1           1           0   \n",
      "770             1           1           1           1           1           1   \n",
      "775             1           1           1           1           1           0   \n",
      "780             1           1           1           1           1           0   \n",
      "790             1           1           1           1           1           0   \n",
      "800             1           1           1           1           0           1   \n",
      "811             1           1           1           1           1           0   \n",
      "812             1           1           1           1           1           0   \n",
      "820             1           1           1           1           1           1   \n",
      "840             0           1           1           1           1           0   \n",
      "850             1           1           1           1           1           0   \n",
      "900             0           1           1           0           0           1   \n",
      "920             1           1           1           0           0           1   \n",
      "\n",
      "       res__9040.0  res__9041.0  cluster  \n",
      "ccode                                     \n",
      "2                1            1        1  \n",
      "20               1            1        1  \n",
      "40               1            1        0  \n",
      "41               1            1        1  \n",
      "42               1            1        1  \n",
      "70               1            1       -1  \n",
      "90               1            1        1  \n",
      "91               1            1        1  \n",
      "92               1            1        1  \n",
      "93               1            1        1  \n",
      "94               1            1        1  \n",
      "95               1            1        1  \n",
      "100              1            1        1  \n",
      "101              1            1        1  \n",
      "130              1            1        1  \n",
      "135              1            1        1  \n",
      "140              1            1        1  \n",
      "145              0            0        1  \n",
      "150              1            1        1  \n",
      "155              1            1        1  \n",
      "160              1            1        1  \n",
      "165              1            1        1  \n",
      "200              1            1        1  \n",
      "205              1            1       -1  \n",
      "210              1            1        1  \n",
      "211              1            1        1  \n",
      "212              1            1        1  \n",
      "220              1            0        1  \n",
      "230              1            1        1  \n",
      "235              1            1        1  \n",
      "...            ...          ...      ...  \n",
      "580              0            0        0  \n",
      "600              1            1        0  \n",
      "616              1            1       -1  \n",
      "620              1            1        0  \n",
      "625              1            1        0  \n",
      "630              1            1        1  \n",
      "640              1            1        1  \n",
      "645              1            1        0  \n",
      "651              1            1        0  \n",
      "660              1            1       -1  \n",
      "663              1            1       -1  \n",
      "666              1            1        0  \n",
      "670              1            1        0  \n",
      "678              1            1        0  \n",
      "700              1            1        0  \n",
      "713              1            1        1  \n",
      "740              1            1        1  \n",
      "750              1            1        0  \n",
      "770              1            1        1  \n",
      "775              1            1        0  \n",
      "780              1            1        0  \n",
      "790              1            1        0  \n",
      "800              1            1        1  \n",
      "811              1            1       -1  \n",
      "812              1            1        0  \n",
      "820              1            1       -1  \n",
      "840              1            1        1  \n",
      "850              1            1        0  \n",
      "900              1            1        1  \n",
      "920              1            1        1  \n",
      "\n",
      "[99 rows x 55 columns]\n"
     ]
    },
    {
     "data": {
      "image/png": "[encoded data removed]",
      "text/plain": [
       "<matplotlib.figure.Figure at 0x107cd9828>"
      ]
     },
     "metadata": {},
     "output_type": "display_data"
    }
   ],
   "source": [
    "def output_all(year):\n",
    "    #HDBSCAN:\n",
    "    hdbscn = hdbscan.HDBSCAN(min_cluster_size = 10,\n",
    "               gen_min_span_tree = True)\n",
    "    hdbscn.fit(frames.get(year))\n",
    "    hdbscn_labels = hdbscn.labels_\n",
    "    hdbscn_n_clusters_ = len(set(hdbscn_labels)) - (1 if -1 in hdbscn_labels else 0)\n",
    "    \n",
    "    df_output_year = create_year_df(year)\n",
    "    df_output_year['cluster'] = hdbscn.labels_\n",
    "    df_output_year.reset_index(inplace=True)\n",
    "    df_output_year = pd.merge(df_output_year, df_name_index, on='ccode')\n",
    "    \n",
    "    \n",
    "    # print HDBSCAN RESULTS:\n",
    "    print('Estimated number of clusters: %d' % hdbscn_n_clusters_)\n",
    "    # print('Homogeneity: %0.6f' % metrics.homogeneity_score(frames.get(year), hdbscn_labels))\n",
    "    # print('Completeness: %0.6f' % metrics.completeness_score(y, hdbscn_labels))\n",
    "    print('Silhouette Coefficient: %0.6f' % metrics.silhouette_score(frames.get(year), hdbscn_labels))\n",
    "    \n",
    "    #Create cluster lists\n",
    "    cluster0_list = df_output_year[df_output_year.cluster == 0]['Countryname'].tolist()\n",
    "    cluster1_list = df_output_year[df_output_year.cluster == 1]['Countryname'].tolist()\n",
    "    cluster2_list = df_output_year[df_output_year.cluster == 2]['Countryname'].tolist()\n",
    "    cluster_Outlier_list = df_output_year[df_output_year.cluster == -1]['Countryname'].tolist()\n",
    "\n",
    "    print (\"\\n\\n\",\" Cluster 0:\",cluster0_list,\"\\n\\n\",\"Cluster 1:\",cluster1_list,\"\\n\\n\",\"Cluster 2:\",cluster2_list,\"\\n\\n\",\"Outliers:\",cluster_Outlier_list)\n",
    "    \n",
    "    #PCA:\n",
    "    df_PCA = df_output_year.drop(['Countryname'], axis=1)\n",
    "    X = df_PCA\n",
    "    X = X.set_index('ccode')\n",
    "    print(X)\n",
    "    pca = PCA()\n",
    "    pca = pca.fit(X)\n",
    "    Z = pca.transform(X)\n",
    "    features_pca = ['PC'+str(i+1) for i in range(pca.n_components_)]\n",
    "    Z = pd.DataFrame(Z, columns=features_pca)\n",
    "    X.reset_index(inplace=True)\n",
    "    X = X[['ccode','cluster']]\n",
    "    X = X.join(Z, lsuffix='_caller', rsuffix='_other')\n",
    "    df_PCA = pd.merge(X, df_PCA, on='ccode')\n",
    "    df_PCA = df_PCA[['ccode','cluster_x',\"PC1\",\"PC2\"]] \n",
    "\n",
    "    #Plot PCA\n",
    "    fig = plt.figure(figsize=(9,7))\n",
    "    ax = fig.gca()\n",
    "    ax.scatter(Z.iloc[:,0], Z.iloc[:,1],\n",
    "                       c=df_PCA.cluster_x)\n",
    "    ax.set_xlabel('principal component 1', fontsize=16)\n",
    "    ax.set_ylabel('principal component 2', fontsize=16)\n",
    "    for tick in ax.xaxis.get_major_ticks():\n",
    "        tick.label.set_fontsize(12) \n",
    "    for tick in ax.yaxis.get_major_ticks():\n",
    "        tick.label.set_fontsize(12) \n",
    "    ax.set_title('PC1 vs PC2\\n', fontsize=20)\n",
    "    return plt.show()\n",
    "\n",
    "output_all(1960)  "
   ]
  },
  {
   "cell_type": "code",
   "execution_count": 19,
   "metadata": {
    "collapsed": true
   },
   "outputs": [],
   "source": [
    "# def output_all(year):\n",
    "#     #HDBSCAN:\n",
    "#     hdbscn = hdbscan.HDBSCAN(min_cluster_size = 10,\n",
    "#                gen_min_span_tree = True)\n",
    "#     hdbscn.fit(frames.get(year))\n",
    "#     hdbscn_labels = hdbscn.labels_\n",
    "#     hdbscn_n_clusters_ = len(set(hdbscn_labels)) - (1 if -1 in hdbscn_labels else 0)\n",
    "    \n",
    "#     df_output_year = create_year_df(year)\n",
    "#     df_output_year['cluster'] = hdbscn.labels_\n",
    "#     df_output_year.reset_index(inplace=True)\n",
    "#     df_output_year = pd.merge(df_output_year, df_name_index, on='ccode')\n",
    "    \n",
    "    \n",
    "#     # print HDBSCAN RESULTS:\n",
    "#     print('Estimated number of clusters: %d' % hdbscn_n_clusters_)\n",
    "#     # print('Homogeneity: %0.6f' % metrics.homogeneity_score(frames.get(year), hdbscn_labels))\n",
    "#     # print('Completeness: %0.6f' % metrics.completeness_score(y, hdbscn_labels))\n",
    "#     print('Silhouette Coefficient: %0.6f' % metrics.silhouette_score(frames.get(year), hdbscn_labels))\n",
    "    \n",
    "#     #Create cluster lists\n",
    "#     cluster0_list = df_output_year[df_output_year.cluster == 0]['Countryname'].tolist()\n",
    "#     cluster1_list = df_output_year[df_output_year.cluster == 1]['Countryname'].tolist()\n",
    "#     cluster2_list = df_output_year[df_output_year.cluster == 2]['Countryname'].tolist()\n",
    "#     cluster_Outlier_list = df_output_year[df_output_year.cluster == -1]['Countryname'].tolist()\n",
    "\n",
    "#     print (\"\\n\\n\",\" Cluster 0:\",cluster0_list,\"\\n\\n\",\"Cluster 1:\",cluster1_list,\"\\n\\n\",\"Cluster 2:\",cluster2_list,\"\\n\\n\",\"Outliers:\",cluster_Outlier_list)\n",
    "    \n",
    "#     #PCA:\n",
    "#     df_PCA = df_output_year.drop(['Countryname'], axis=1)\n",
    "#     X = df_PCA\n",
    "#     print(X)\n",
    "#     pca = PCA()\n",
    "#     pca = pca.fit(X)\n",
    "#     Z = pca.transform(X)\n",
    "#     features_pca = ['PC'+str(i+1) for i in range(pca.n_components_)]\n",
    "#     Z = pd.DataFrame(Z, columns=features_pca)\n",
    "#     X = X[['ccode','cluster']]\n",
    "#     X = X.join(Z, lsuffix='_caller', rsuffix='_other')\n",
    "#     df_PCA = pd.merge(X, df_PCA, on='ccode')\n",
    "#     df_PCA = df_PCA[['ccode','cluster_x',\"PC1\",\"PC2\"]] \n",
    "\n",
    "#     #Plot PCA\n",
    "#     fig = plt.figure(figsize=(9,7))\n",
    "#     ax = fig.gca()\n",
    "#     ax.scatter(Z.iloc[:,0], Z.iloc[:,1],\n",
    "#                        c=df_PCA.cluster_x)\n",
    "#     ax.set_xlabel('principal component 1', fontsize=16)\n",
    "#     ax.set_ylabel('principal component 2', fontsize=16)\n",
    "#     for tick in ax.xaxis.get_major_ticks():\n",
    "#         tick.label.set_fontsize(12) \n",
    "#     for tick in ax.yaxis.get_major_ticks():\n",
    "#         tick.label.set_fontsize(12) \n",
    "#     ax.set_title('PC1 vs PC2\\n', fontsize=20)\n",
    "#     return plt.show()\n",
    "\n",
    "# output_all(1960)  "
   ]
  },
  {
   "cell_type": "code",
   "execution_count": 20,
   "metadata": {},
   "outputs": [
    {
     "data": {
      "application/vnd.jupyter.widget-view+json": {
       "model_id": "f80e969f5095490fac1afc2da7a24a16",
       "version_major": 2,
       "version_minor": 0
      },
      "text/plain": [
       "A Jupyter Widget"
      ]
     },
     "metadata": {},
     "output_type": "display_data"
    },
    {
     "data": {
      "text/plain": [
       "<function __main__.output_all>"
      ]
     },
     "execution_count": 20,
     "metadata": {},
     "output_type": "execute_result"
    }
   ],
   "source": [
    "interact(output_all, year=widgets.IntSlider(min=1948,max=2017,step=1,value=10))"
   ]
  },
  {
   "cell_type": "code",
   "execution_count": null,
   "metadata": {
    "collapsed": true
   },
   "outputs": [],
   "source": []
  },
  {
   "cell_type": "code",
   "execution_count": null,
   "metadata": {
    "collapsed": true
   },
   "outputs": [],
   "source": []
  },
  {
   "cell_type": "code",
   "execution_count": null,
   "metadata": {
    "collapsed": true
   },
   "outputs": [],
   "source": []
  },
  {
   "cell_type": "code",
   "execution_count": null,
   "metadata": {
    "collapsed": true
   },
   "outputs": [],
   "source": []
  },
  {
   "cell_type": "code",
   "execution_count": null,
   "metadata": {
    "collapsed": true
   },
   "outputs": [],
   "source": []
  },
  {
   "cell_type": "code",
   "execution_count": null,
   "metadata": {
    "collapsed": true
   },
   "outputs": [],
   "source": []
  },
  {
   "cell_type": "code",
   "execution_count": null,
   "metadata": {
    "collapsed": true
   },
   "outputs": [],
   "source": []
  },
  {
   "cell_type": "code",
   "execution_count": null,
   "metadata": {
    "collapsed": true
   },
   "outputs": [],
   "source": []
  },
  {
   "cell_type": "markdown",
   "metadata": {},
   "source": [
    "# NLP - Topic Modeling"
   ]
  },
  {
   "cell_type": "code",
   "execution_count": 21,
   "metadata": {
    "collapsed": true
   },
   "outputs": [],
   "source": [
    "\n",
    "# NLTK\n",
    "from nltk.tokenize import RegexpTokenizer\n",
    "from nltk.stem import PorterStemmer\n",
    "from nltk.corpus import stopwords\n",
    "import re\n",
    "\n",
    "# Visualization\n",
    "import matplotlib.patches as mpatches\n",
    "import matplotlib\n",
    "from gensim import corpora, models\n",
    "import pyLDAvis.gensim"
   ]
  },
  {
   "cell_type": "code",
   "execution_count": 32,
   "metadata": {
    "collapsed": true
   },
   "outputs": [],
   "source": [
    "df_descriptions = pd.read_csv('~/documents/UN-Capstone/Dscription.csv')"
   ]
  },
  {
   "cell_type": "code",
   "execution_count": 39,
   "metadata": {
    "scrolled": true
   },
   "outputs": [
    {
     "data": {
      "text/plain": [
       "0       TO ADOPT A CUBAN AMENDMENT TO THE UK PROPOSAL ...\n",
       "1       TO ADOPT A USSR PROPOSAL ADJOURNING DEBATE ON ...\n",
       "2       TO ADOPT THE KOREAN PROPOSAL THAT INVALID BALL...\n",
       "3       TO ADOPT A CUBAN PROPOSAL (A/3-C) THAT AN ITEM...\n",
       "4       TO ADOPT A 6TH COMMITTEE AMENDMENT (A/14) TO T...\n",
       "5       TO ADOPT A SECOND 6TH COMM. AMENDMENT (A/14) T...\n",
       "6       TO OPEN THE DISCUSSION ON THE POLISH DRAFT RES...\n",
       "7       TO ADOPT GENERAL COMM. DRAFT RESOLUTION (A/40)...\n",
       "8       TO ADOPT DRAFT RESOLUTIONS I AND II AS A WHOLE...\n",
       "9       TO ADOPT PARAGRAPH (A) OF THE 6TH COMM. DRAFT ...\n",
       "10      TO ADOPT USSR AMMENDMENT (A/C.3/19) TO A 3RD C...\n",
       "11      TO ADOPT A USSR AMENDMENT (A/C.3/19) TO 3RD CO...\n",
       "12      TO ADOPT USSR REVISED-AMENDMENT (A/C.3/19) TO ...\n",
       "13      TO ADOPT URUGUAY (ORAL) AMENDMENT TO THE GENER...\n",
       "14      TO ADOPT NEW ZEALAND (ORAL) AMENDMENT TO GENER...\n",
       "15      TO ADOPT USSR (ORAL) AMENDMENT REPLACING THE 1...\n",
       "16      TO ADOPT THE 1ST COMM. DRAFT RESOLUTION (A/54/...\n",
       "17      TO REQUIRE 2/3 MAJORITY RULE IN VOTING ON THE ...\n",
       "18      TO ADOPT S. AFRICA AMENDMENT (A/205/ADD.1) TO ...\n",
       "19      TO ADOPT JOINT 1ST/6TH COMM. DRAFT RESOLUTION ...\n",
       "20      TO ADOPT WHOLE 1ST COMM. DRAFT RESOLUTION (A/2...\n",
       "21      TO ADOPT BELGIAN ORAL PROPOSAL TO SURRENDER BE...\n",
       "22      TO ADOPT 1ST COMM. DRAFT RESOLUTION (A/235) RE...\n",
       "23      TO ADOPT USSR ORAL RESOL. REJECTING 8 DRAFT TR...\n",
       "24      TO ADOPT THE TRUSTEESHIP AGREEMENT FOR NEW GUI...\n",
       "25      TO ADOPT THE TRUSTEESHIP AGREEMENT FOR RUANDA-...\n",
       "26      TO ADOPT THE TRUSTEESHIP AGREEMENT FOR THE FRE...\n",
       "27      TO ADOPT THE TRUSTEESHIP AGREEMENT FOR FRENCH ...\n",
       "28      TO ADOPT TRUSTEESHIP AGREEMENT FOR WESTERN SAM...\n",
       "29      TO ADOPT TRUSTEESHIP AGREEMENT FOR TANGANYIKA ...\n",
       "                              ...                        \n",
       "5572    A/72/251 99m - Implementation of the Conventio...\n",
       "5573    A/72/251 91 - Implementation of the Declaratio...\n",
       "5574    A/72/251 99g - Conventional arms control at th...\n",
       "5575    A/72/251 93 - Prohibition of the development a...\n",
       "5576    A/72/251 99gg - Ethical imperatives for a nucl...\n",
       "5577    A/72/251 97a - Prevention of an arms race in o...\n",
       "5578    A/72/251 99aa - Compliance with non-proliferat...\n",
       "5579    A/72/251 97b - No first placement of weapons i...\n",
       "5580    A/72/251 99bb - Taking forward multilateral nu...\n",
       "5581    A/72/251 96 - Conclusion of effective internat...\n",
       "5582    A/72/251 99ee - Humanitarian consequences of n...\n",
       "5583    A/72/251 77a - Oceans and the law of the sea. ...\n",
       "5584    A/72/251 77b - Sustainable fisheries, includin...\n",
       "5585    A/72/251 176 - Cooperation between the United ...\n",
       "5586    A/72/251 54 - Report of the Special Committee ...\n",
       "5587    A/72/251 53 - United Nations Relief and Works ...\n",
       "5588    A/72/251 53 - United Nations Relief and Works ...\n",
       "5589    A/72/251 53 - United Nations Relief and Works ...\n",
       "5590    A/72/251 53 - United Nations Relief and Works ...\n",
       "5591    A/72/251 54 - Report of the Special Committee ...\n",
       "5592    A/72/251 59 - Economic and other activities wh...\n",
       "5593    A/72/251 60 - Implementation of the Declaratio...\n",
       "5594    A/72/251 54 - Report of the Special Committee ...\n",
       "5595    A/72/251 58 - Information from Non-Self-Govern...\n",
       "5596    A/72/251 54 - Report of the Special Committee ...\n",
       "5597    A/72/251 54 - Report of the Special Committee ...\n",
       "5598    A/72/251 62 - Implementation of the Declaratio...\n",
       "5599    A/72/251 62 - Implementation of the Declaratio...\n",
       "5600    A/72/251 62 - Implementation of the Declaratio...\n",
       "5601              A/72/251 15 - Culture of peace. - PEACE\n",
       "Name: descr, Length: 5602, dtype: object"
      ]
     },
     "execution_count": 39,
     "metadata": {},
     "output_type": "execute_result"
    }
   ],
   "source": [
    "df_descriptions.descr"
   ]
  },
  {
   "cell_type": "code",
   "execution_count": null,
   "metadata": {
    "collapsed": true
   },
   "outputs": [],
   "source": []
  },
  {
   "cell_type": "code",
   "execution_count": null,
   "metadata": {
    "collapsed": true
   },
   "outputs": [],
   "source": []
  },
  {
   "cell_type": "code",
   "execution_count": null,
   "metadata": {
    "collapsed": true
   },
   "outputs": [],
   "source": []
  },
  {
   "cell_type": "code",
   "execution_count": 23,
   "metadata": {
    "collapsed": true
   },
   "outputs": [],
   "source": [
    "texts = []"
   ]
  },
  {
   "cell_type": "code",
   "execution_count": 24,
   "metadata": {
    "collapsed": true
   },
   "outputs": [],
   "source": [
    "def text_process(text):\n",
    "    '''\n",
    "    Takes in a string of text, then performs the following:\n",
    "        1. Tokenizes and removes punctuation\n",
    "        2. Removes stopwords\n",
    "        3. Stems\n",
    "        4. Returns a list of the cleaned text\n",
    "    '''\n",
    "    if pd.isnull(text):\n",
    "        return []\n",
    "    # tokenizing and removing punctuation\n",
    "    tokenizer = RegexpTokenizer(r'\\w+')\n",
    "    text_processed=tokenizer.tokenize(text)\n",
    "    \n",
    "    # removing any stopwords\n",
    "    text_processed = [word.lower() for word in text_processed if word.lower() not in stopwords.words('english')]\n",
    "    \n",
    "    # steming\n",
    "    porter_stemmer = PorterStemmer()\n",
    "    \n",
    "    text_processed = [porter_stemmer.stem(word) for word in text_processed]\n",
    "    \n",
    "    try:\n",
    "        text_processed.remove('b')\n",
    "    except: \n",
    "        pass\n",
    "\n",
    "    return text_processed ## <-- one small tweak"
   ]
  },
  {
   "cell_type": "code",
   "execution_count": 25,
   "metadata": {
    "collapsed": true
   },
   "outputs": [],
   "source": [
    "for i in range(1000):\n",
    "    texts.append(text_process(df_descriptions.loc[i, 'descr']))"
   ]
  },
  {
   "cell_type": "code",
   "execution_count": 26,
   "metadata": {},
   "outputs": [
    {
     "data": {
      "text/plain": [
       "['adopt',\n",
       " 'cuban',\n",
       " 'amend',\n",
       " 'uk',\n",
       " 'propos',\n",
       " 'refer',\n",
       " 'provision',\n",
       " 'rule',\n",
       " 'procedur',\n",
       " 'amend',\n",
       " 'thereof',\n",
       " '6th',\n",
       " 'committe',\n",
       " 'said',\n",
       " 'amend',\n",
       " 'prescrib',\n",
       " '1',\n",
       " 'week',\n",
       " 'time',\n",
       " 'limit',\n",
       " 'within',\n",
       " '6th',\n",
       " 'comm',\n",
       " 'must',\n",
       " 'submit',\n",
       " 'report']"
      ]
     },
     "execution_count": 26,
     "metadata": {},
     "output_type": "execute_result"
    }
   ],
   "source": [
    "texts[0]"
   ]
  },
  {
   "cell_type": "code",
   "execution_count": 27,
   "metadata": {},
   "outputs": [
    {
     "name": "stderr",
     "output_type": "stream",
     "text": [
      "/Users/jakerattner/anaconda3/lib/python3.6/site-packages/gensim/matutils.py:995: RuntimeWarning: invalid value encountered in subtract\n",
      "  result = psi(alpha) - psi(np.sum(alpha))\n"
     ]
    }
   ],
   "source": [
    "dictionary = corpora.Dictionary(texts)\n",
    "\n",
    "corpus = [dictionary.doc2bow(text) for text in texts]\n",
    "\n",
    "ldamodel = models.ldamodel.LdaModel(corpus, \n",
    "                                    id2word = dictionary, \n",
    "                                    num_topics = 10, \n",
    "                                    passes = 15, \n",
    "                                    minimum_probability=0)"
   ]
  },
  {
   "cell_type": "code",
   "execution_count": 28,
   "metadata": {},
   "outputs": [
    {
     "name": "stderr",
     "output_type": "stream",
     "text": [
      "/Users/jakerattner/anaconda3/lib/python3.6/site-packages/pyLDAvis/_prepare.py:387: DeprecationWarning: \n",
      ".ix is deprecated. Please use\n",
      ".loc for label based indexing or\n",
      ".iloc for positional indexing\n",
      "\n",
      "See the documentation here:\n",
      "http://pandas.pydata.org/pandas-docs/stable/indexing.html#ix-indexer-is-deprecated\n",
      "  topic_term_dists = topic_term_dists.ix[topic_order]\n"
     ]
    },
    {
     "ename": "LinAlgError",
     "evalue": "Array must not contain infs or NaNs",
     "output_type": "error",
     "traceback": [
      "\u001b[0;31m---------------------------------------------------------------------------\u001b[0m",
      "\u001b[0;31mLinAlgError\u001b[0m                               Traceback (most recent call last)",
      "\u001b[0;32m<ipython-input-28-eb5f7004bc08>\u001b[0m in \u001b[0;36m<module>\u001b[0;34m()\u001b[0m\n\u001b[0;32m----> 1\u001b[0;31m \u001b[0mpyLDAvis\u001b[0m\u001b[0;34m.\u001b[0m\u001b[0mgensim\u001b[0m\u001b[0;34m.\u001b[0m\u001b[0mprepare\u001b[0m\u001b[0;34m(\u001b[0m\u001b[0mldamodel\u001b[0m\u001b[0;34m,\u001b[0m \u001b[0mcorpus\u001b[0m\u001b[0;34m,\u001b[0m \u001b[0mdictionary\u001b[0m\u001b[0;34m)\u001b[0m\u001b[0;34m\u001b[0m\u001b[0m\n\u001b[0m",
      "\u001b[0;32m~/anaconda3/lib/python3.6/site-packages/pyLDAvis/gensim.py\u001b[0m in \u001b[0;36mprepare\u001b[0;34m(topic_model, corpus, dictionary, doc_topic_dist, **kwargs)\u001b[0m\n\u001b[1;32m    110\u001b[0m     \"\"\"\n\u001b[1;32m    111\u001b[0m     \u001b[0mopts\u001b[0m \u001b[0;34m=\u001b[0m \u001b[0mfp\u001b[0m\u001b[0;34m.\u001b[0m\u001b[0mmerge\u001b[0m\u001b[0;34m(\u001b[0m\u001b[0m_extract_data\u001b[0m\u001b[0;34m(\u001b[0m\u001b[0mtopic_model\u001b[0m\u001b[0;34m,\u001b[0m \u001b[0mcorpus\u001b[0m\u001b[0;34m,\u001b[0m \u001b[0mdictionary\u001b[0m\u001b[0;34m,\u001b[0m \u001b[0mdoc_topic_dist\u001b[0m\u001b[0;34m)\u001b[0m\u001b[0;34m,\u001b[0m \u001b[0mkwargs\u001b[0m\u001b[0;34m)\u001b[0m\u001b[0;34m\u001b[0m\u001b[0m\n\u001b[0;32m--> 112\u001b[0;31m     \u001b[0;32mreturn\u001b[0m \u001b[0mvis_prepare\u001b[0m\u001b[0;34m(\u001b[0m\u001b[0;34m**\u001b[0m\u001b[0mopts\u001b[0m\u001b[0;34m)\u001b[0m\u001b[0;34m\u001b[0m\u001b[0m\n\u001b[0m",
      "\u001b[0;32m~/anaconda3/lib/python3.6/site-packages/pyLDAvis/_prepare.py\u001b[0m in \u001b[0;36mprepare\u001b[0;34m(topic_term_dists, doc_topic_dists, doc_lengths, vocab, term_frequency, R, lambda_step, mds, n_jobs, plot_opts, sort_topics)\u001b[0m\n\u001b[1;32m    398\u001b[0m    \u001b[0mtopic_info\u001b[0m         \u001b[0;34m=\u001b[0m \u001b[0m_topic_info\u001b[0m\u001b[0;34m(\u001b[0m\u001b[0mtopic_term_dists\u001b[0m\u001b[0;34m,\u001b[0m \u001b[0mtopic_proportion\u001b[0m\u001b[0;34m,\u001b[0m \u001b[0mterm_frequency\u001b[0m\u001b[0;34m,\u001b[0m \u001b[0mterm_topic_freq\u001b[0m\u001b[0;34m,\u001b[0m \u001b[0mvocab\u001b[0m\u001b[0;34m,\u001b[0m \u001b[0mlambda_step\u001b[0m\u001b[0;34m,\u001b[0m \u001b[0mR\u001b[0m\u001b[0;34m,\u001b[0m \u001b[0mn_jobs\u001b[0m\u001b[0;34m)\u001b[0m\u001b[0;34m\u001b[0m\u001b[0m\n\u001b[1;32m    399\u001b[0m    \u001b[0mtoken_table\u001b[0m        \u001b[0;34m=\u001b[0m \u001b[0m_token_table\u001b[0m\u001b[0;34m(\u001b[0m\u001b[0mtopic_info\u001b[0m\u001b[0;34m,\u001b[0m \u001b[0mterm_topic_freq\u001b[0m\u001b[0;34m,\u001b[0m \u001b[0mvocab\u001b[0m\u001b[0;34m,\u001b[0m \u001b[0mterm_frequency\u001b[0m\u001b[0;34m)\u001b[0m\u001b[0;34m\u001b[0m\u001b[0m\n\u001b[0;32m--> 400\u001b[0;31m    \u001b[0mtopic_coordinates\u001b[0m \u001b[0;34m=\u001b[0m \u001b[0m_topic_coordinates\u001b[0m\u001b[0;34m(\u001b[0m\u001b[0mmds\u001b[0m\u001b[0;34m,\u001b[0m \u001b[0mtopic_term_dists\u001b[0m\u001b[0;34m,\u001b[0m \u001b[0mtopic_proportion\u001b[0m\u001b[0;34m)\u001b[0m\u001b[0;34m\u001b[0m\u001b[0m\n\u001b[0m\u001b[1;32m    401\u001b[0m    \u001b[0mclient_topic_order\u001b[0m \u001b[0;34m=\u001b[0m \u001b[0;34m[\u001b[0m\u001b[0mx\u001b[0m \u001b[0;34m+\u001b[0m \u001b[0;36m1\u001b[0m \u001b[0;32mfor\u001b[0m \u001b[0mx\u001b[0m \u001b[0;32min\u001b[0m \u001b[0mtopic_order\u001b[0m\u001b[0;34m]\u001b[0m\u001b[0;34m\u001b[0m\u001b[0m\n\u001b[1;32m    402\u001b[0m \u001b[0;34m\u001b[0m\u001b[0m\n",
      "\u001b[0;32m~/anaconda3/lib/python3.6/site-packages/pyLDAvis/_prepare.py\u001b[0m in \u001b[0;36m_topic_coordinates\u001b[0;34m(mds, topic_term_dists, topic_proportion)\u001b[0m\n\u001b[1;32m    181\u001b[0m \u001b[0;32mdef\u001b[0m \u001b[0m_topic_coordinates\u001b[0m\u001b[0;34m(\u001b[0m\u001b[0mmds\u001b[0m\u001b[0;34m,\u001b[0m \u001b[0mtopic_term_dists\u001b[0m\u001b[0;34m,\u001b[0m \u001b[0mtopic_proportion\u001b[0m\u001b[0;34m)\u001b[0m\u001b[0;34m:\u001b[0m\u001b[0;34m\u001b[0m\u001b[0m\n\u001b[1;32m    182\u001b[0m    \u001b[0mK\u001b[0m \u001b[0;34m=\u001b[0m \u001b[0mtopic_term_dists\u001b[0m\u001b[0;34m.\u001b[0m\u001b[0mshape\u001b[0m\u001b[0;34m[\u001b[0m\u001b[0;36m0\u001b[0m\u001b[0;34m]\u001b[0m\u001b[0;34m\u001b[0m\u001b[0m\n\u001b[0;32m--> 183\u001b[0;31m    \u001b[0mmds_res\u001b[0m \u001b[0;34m=\u001b[0m \u001b[0mmds\u001b[0m\u001b[0;34m(\u001b[0m\u001b[0mtopic_term_dists\u001b[0m\u001b[0;34m)\u001b[0m\u001b[0;34m\u001b[0m\u001b[0m\n\u001b[0m\u001b[1;32m    184\u001b[0m    \u001b[0;32massert\u001b[0m \u001b[0mmds_res\u001b[0m\u001b[0;34m.\u001b[0m\u001b[0mshape\u001b[0m \u001b[0;34m==\u001b[0m \u001b[0;34m(\u001b[0m\u001b[0mK\u001b[0m\u001b[0;34m,\u001b[0m \u001b[0;36m2\u001b[0m\u001b[0;34m)\u001b[0m\u001b[0;34m\u001b[0m\u001b[0m\n\u001b[1;32m    185\u001b[0m    mds_df = pd.DataFrame({'x': mds_res[:,0], 'y': mds_res[:,1], 'topics': range(1, K + 1), \\\n",
      "\u001b[0;32m~/anaconda3/lib/python3.6/site-packages/pyLDAvis/_prepare.py\u001b[0m in \u001b[0;36mjs_PCoA\u001b[0;34m(distributions)\u001b[0m\n\u001b[1;32m    118\u001b[0m     \"\"\"\n\u001b[1;32m    119\u001b[0m     \u001b[0mdist_matrix\u001b[0m \u001b[0;34m=\u001b[0m \u001b[0msquareform\u001b[0m\u001b[0;34m(\u001b[0m\u001b[0mpdist\u001b[0m\u001b[0;34m(\u001b[0m\u001b[0mdistributions\u001b[0m\u001b[0;34m,\u001b[0m \u001b[0mmetric\u001b[0m\u001b[0;34m=\u001b[0m\u001b[0m_jensen_shannon\u001b[0m\u001b[0;34m)\u001b[0m\u001b[0;34m)\u001b[0m\u001b[0;34m\u001b[0m\u001b[0m\n\u001b[0;32m--> 120\u001b[0;31m     \u001b[0;32mreturn\u001b[0m \u001b[0m_pcoa\u001b[0m\u001b[0;34m(\u001b[0m\u001b[0mdist_matrix\u001b[0m\u001b[0;34m)\u001b[0m\u001b[0;34m\u001b[0m\u001b[0m\n\u001b[0m\u001b[1;32m    121\u001b[0m \u001b[0;34m\u001b[0m\u001b[0m\n\u001b[1;32m    122\u001b[0m \u001b[0;34m\u001b[0m\u001b[0m\n",
      "\u001b[0;32m~/anaconda3/lib/python3.6/site-packages/pyLDAvis/_prepare.py\u001b[0m in \u001b[0;36m_pcoa\u001b[0;34m(pair_dists, n_components)\u001b[0m\n\u001b[1;32m     85\u001b[0m     \u001b[0mH\u001b[0m \u001b[0;34m=\u001b[0m \u001b[0mnp\u001b[0m\u001b[0;34m.\u001b[0m\u001b[0meye\u001b[0m\u001b[0;34m(\u001b[0m\u001b[0mn\u001b[0m\u001b[0;34m)\u001b[0m \u001b[0;34m-\u001b[0m \u001b[0mnp\u001b[0m\u001b[0;34m.\u001b[0m\u001b[0mones\u001b[0m\u001b[0;34m(\u001b[0m\u001b[0;34m(\u001b[0m\u001b[0mn\u001b[0m\u001b[0;34m,\u001b[0m \u001b[0mn\u001b[0m\u001b[0;34m)\u001b[0m\u001b[0;34m)\u001b[0m \u001b[0;34m/\u001b[0m \u001b[0mn\u001b[0m\u001b[0;34m\u001b[0m\u001b[0m\n\u001b[1;32m     86\u001b[0m     \u001b[0mB\u001b[0m \u001b[0;34m=\u001b[0m \u001b[0;34m-\u001b[0m \u001b[0mH\u001b[0m\u001b[0;34m.\u001b[0m\u001b[0mdot\u001b[0m\u001b[0;34m(\u001b[0m\u001b[0mpair_dists\u001b[0m \u001b[0;34m**\u001b[0m \u001b[0;36m2\u001b[0m\u001b[0;34m)\u001b[0m\u001b[0;34m.\u001b[0m\u001b[0mdot\u001b[0m\u001b[0;34m(\u001b[0m\u001b[0mH\u001b[0m\u001b[0;34m)\u001b[0m \u001b[0;34m/\u001b[0m \u001b[0;36m2\u001b[0m\u001b[0;34m\u001b[0m\u001b[0m\n\u001b[0;32m---> 87\u001b[0;31m     \u001b[0meigvals\u001b[0m\u001b[0;34m,\u001b[0m \u001b[0meigvecs\u001b[0m \u001b[0;34m=\u001b[0m \u001b[0mnp\u001b[0m\u001b[0;34m.\u001b[0m\u001b[0mlinalg\u001b[0m\u001b[0;34m.\u001b[0m\u001b[0meig\u001b[0m\u001b[0;34m(\u001b[0m\u001b[0mB\u001b[0m\u001b[0;34m)\u001b[0m\u001b[0;34m\u001b[0m\u001b[0m\n\u001b[0m\u001b[1;32m     88\u001b[0m \u001b[0;34m\u001b[0m\u001b[0m\n\u001b[1;32m     89\u001b[0m     \u001b[0;31m# Take first n_components of eigenvalues and eigenvectors\u001b[0m\u001b[0;34m\u001b[0m\u001b[0;34m\u001b[0m\u001b[0m\n",
      "\u001b[0;32m~/anaconda3/lib/python3.6/site-packages/numpy/linalg/linalg.py\u001b[0m in \u001b[0;36meig\u001b[0;34m(a)\u001b[0m\n\u001b[1;32m   1126\u001b[0m     \u001b[0m_assertRankAtLeast2\u001b[0m\u001b[0;34m(\u001b[0m\u001b[0ma\u001b[0m\u001b[0;34m)\u001b[0m\u001b[0;34m\u001b[0m\u001b[0m\n\u001b[1;32m   1127\u001b[0m     \u001b[0m_assertNdSquareness\u001b[0m\u001b[0;34m(\u001b[0m\u001b[0ma\u001b[0m\u001b[0;34m)\u001b[0m\u001b[0;34m\u001b[0m\u001b[0m\n\u001b[0;32m-> 1128\u001b[0;31m     \u001b[0m_assertFinite\u001b[0m\u001b[0;34m(\u001b[0m\u001b[0ma\u001b[0m\u001b[0;34m)\u001b[0m\u001b[0;34m\u001b[0m\u001b[0m\n\u001b[0m\u001b[1;32m   1129\u001b[0m     \u001b[0mt\u001b[0m\u001b[0;34m,\u001b[0m \u001b[0mresult_t\u001b[0m \u001b[0;34m=\u001b[0m \u001b[0m_commonType\u001b[0m\u001b[0;34m(\u001b[0m\u001b[0ma\u001b[0m\u001b[0;34m)\u001b[0m\u001b[0;34m\u001b[0m\u001b[0m\n\u001b[1;32m   1130\u001b[0m \u001b[0;34m\u001b[0m\u001b[0m\n",
      "\u001b[0;32m~/anaconda3/lib/python3.6/site-packages/numpy/linalg/linalg.py\u001b[0m in \u001b[0;36m_assertFinite\u001b[0;34m(*arrays)\u001b[0m\n\u001b[1;32m    215\u001b[0m     \u001b[0;32mfor\u001b[0m \u001b[0ma\u001b[0m \u001b[0;32min\u001b[0m \u001b[0marrays\u001b[0m\u001b[0;34m:\u001b[0m\u001b[0;34m\u001b[0m\u001b[0m\n\u001b[1;32m    216\u001b[0m         \u001b[0;32mif\u001b[0m \u001b[0;32mnot\u001b[0m \u001b[0;34m(\u001b[0m\u001b[0misfinite\u001b[0m\u001b[0;34m(\u001b[0m\u001b[0ma\u001b[0m\u001b[0;34m)\u001b[0m\u001b[0;34m.\u001b[0m\u001b[0mall\u001b[0m\u001b[0;34m(\u001b[0m\u001b[0;34m)\u001b[0m\u001b[0;34m)\u001b[0m\u001b[0;34m:\u001b[0m\u001b[0;34m\u001b[0m\u001b[0m\n\u001b[0;32m--> 217\u001b[0;31m             \u001b[0;32mraise\u001b[0m \u001b[0mLinAlgError\u001b[0m\u001b[0;34m(\u001b[0m\u001b[0;34m\"Array must not contain infs or NaNs\"\u001b[0m\u001b[0;34m)\u001b[0m\u001b[0;34m\u001b[0m\u001b[0m\n\u001b[0m\u001b[1;32m    218\u001b[0m \u001b[0;34m\u001b[0m\u001b[0m\n\u001b[1;32m    219\u001b[0m \u001b[0;32mdef\u001b[0m \u001b[0m_isEmpty2d\u001b[0m\u001b[0;34m(\u001b[0m\u001b[0marr\u001b[0m\u001b[0;34m)\u001b[0m\u001b[0;34m:\u001b[0m\u001b[0;34m\u001b[0m\u001b[0m\n",
      "\u001b[0;31mLinAlgError\u001b[0m: Array must not contain infs or NaNs"
     ]
    }
   ],
   "source": [
    "pyLDAvis.gensim.prepare(ldamodel, corpus, dictionary)"
   ]
  },
  {
   "cell_type": "code",
   "execution_count": null,
   "metadata": {
    "collapsed": true
   },
   "outputs": [],
   "source": []
  }
 ],
 "metadata": {
  "kernelspec": {
   "display_name": "Python [default]",
   "language": "python",
   "name": "python3"
  },
  "language_info": {
   "codemirror_mode": {
    "name": "ipython",
    "version": 3
   },
   "file_extension": ".py",
   "mimetype": "text/x-python",
   "name": "python",
   "nbconvert_exporter": "python",
   "pygments_lexer": "ipython3",
   "version": "3.6.3"
  }
 },
 "nbformat": 4,
 "nbformat_minor": 2
}
